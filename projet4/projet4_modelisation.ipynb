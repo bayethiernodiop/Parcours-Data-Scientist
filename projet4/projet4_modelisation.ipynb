{
 "cells": [
  {
   "cell_type": "markdown",
   "metadata": {},
   "source": [
    "## Chargement des données nettoyées"
   ]
  },
  {
   "cell_type": "code",
   "execution_count": 1,
   "metadata": {},
   "outputs": [],
   "source": [
    "# Load libraries\n",
    "import numpy as np\n",
    "import pandas as pd"
   ]
  },
  {
   "cell_type": "code",
   "execution_count": 2,
   "metadata": {},
   "outputs": [
    {
     "name": "stderr",
     "output_type": "stream",
     "text": [
      "C:\\Users\\Lebrun\\Anaconda3\\envs\\DS_projet4\\lib\\site-packages\\pyarrow\\pandas_compat.py:752: FutureWarning: .labels was deprecated in version 0.24.0. Use .codes instead.\n",
      "  labels, = index.labels\n"
     ]
    },
    {
     "data": {
      "text/html": [
       "<div>\n",
       "<style scoped>\n",
       "    .dataframe tbody tr th:only-of-type {\n",
       "        vertical-align: middle;\n",
       "    }\n",
       "\n",
       "    .dataframe tbody tr th {\n",
       "        vertical-align: top;\n",
       "    }\n",
       "\n",
       "    .dataframe thead th {\n",
       "        text-align: right;\n",
       "    }\n",
       "</style>\n",
       "<table border=\"1\" class=\"dataframe\">\n",
       "  <thead>\n",
       "    <tr style=\"text-align: right;\">\n",
       "      <th></th>\n",
       "      <th>BuildingType</th>\n",
       "      <th>PrimaryPropertyType</th>\n",
       "      <th>Neighborhood</th>\n",
       "      <th>YearBuilt</th>\n",
       "      <th>NumberofBuildings</th>\n",
       "      <th>NumberofFloors</th>\n",
       "      <th>PropertyGFATotal</th>\n",
       "      <th>PropertyGFAParking</th>\n",
       "      <th>PropertyGFABuilding(s)</th>\n",
       "      <th>LargestPropertyUseType</th>\n",
       "      <th>LargestPropertyUseTypeGFA</th>\n",
       "      <th>ENERGYSTARScore</th>\n",
       "      <th>SiteEnergyUse(kBtu)</th>\n",
       "      <th>TotalGHGEmissions</th>\n",
       "    </tr>\n",
       "  </thead>\n",
       "  <tbody>\n",
       "    <tr>\n",
       "      <th>0</th>\n",
       "      <td>Multifamily LR (1-4)</td>\n",
       "      <td>Low-Rise Multifamily</td>\n",
       "      <td>DOWNTOWN</td>\n",
       "      <td>1900.0</td>\n",
       "      <td>1.0</td>\n",
       "      <td>4.0</td>\n",
       "      <td>48383.0</td>\n",
       "      <td>0.0</td>\n",
       "      <td>48383.0</td>\n",
       "      <td>Multifamily Housing</td>\n",
       "      <td>38172.0</td>\n",
       "      <td>75.0</td>\n",
       "      <td>2953338.0</td>\n",
       "      <td>112.06</td>\n",
       "    </tr>\n",
       "    <tr>\n",
       "      <th>1</th>\n",
       "      <td>Multifamily LR (1-4)</td>\n",
       "      <td>Low-Rise Multifamily</td>\n",
       "      <td>DELRIDGE</td>\n",
       "      <td>2007.0</td>\n",
       "      <td>1.0</td>\n",
       "      <td>4.0</td>\n",
       "      <td>52134.0</td>\n",
       "      <td>0.0</td>\n",
       "      <td>52134.0</td>\n",
       "      <td>Multifamily Housing</td>\n",
       "      <td>52134.0</td>\n",
       "      <td>85.0</td>\n",
       "      <td>1212551.0</td>\n",
       "      <td>8.45</td>\n",
       "    </tr>\n",
       "    <tr>\n",
       "      <th>2</th>\n",
       "      <td>NonResidential</td>\n",
       "      <td>Retail Store</td>\n",
       "      <td>DOWNTOWN</td>\n",
       "      <td>1989.0</td>\n",
       "      <td>1.0</td>\n",
       "      <td>4.0</td>\n",
       "      <td>111077.0</td>\n",
       "      <td>0.0</td>\n",
       "      <td>111077.0</td>\n",
       "      <td>Retail Store</td>\n",
       "      <td>39867.5</td>\n",
       "      <td>91.0</td>\n",
       "      <td>9898724.0</td>\n",
       "      <td>69.01</td>\n",
       "    </tr>\n",
       "    <tr>\n",
       "      <th>3</th>\n",
       "      <td>NonResidential</td>\n",
       "      <td>Small- and Mid-Sized Office</td>\n",
       "      <td>DOWNTOWN</td>\n",
       "      <td>1906.0</td>\n",
       "      <td>1.0</td>\n",
       "      <td>6.0</td>\n",
       "      <td>98370.0</td>\n",
       "      <td>25920.0</td>\n",
       "      <td>72450.0</td>\n",
       "      <td>Office</td>\n",
       "      <td>98370.0</td>\n",
       "      <td>45.0</td>\n",
       "      <td>6525887.0</td>\n",
       "      <td>47.24</td>\n",
       "    </tr>\n",
       "    <tr>\n",
       "      <th>4</th>\n",
       "      <td>NonResidential</td>\n",
       "      <td>Large Office</td>\n",
       "      <td>LAKE UNION</td>\n",
       "      <td>1947.0</td>\n",
       "      <td>1.0</td>\n",
       "      <td>4.0</td>\n",
       "      <td>193788.0</td>\n",
       "      <td>37854.0</td>\n",
       "      <td>155934.0</td>\n",
       "      <td>Office</td>\n",
       "      <td>138672.0</td>\n",
       "      <td>59.0</td>\n",
       "      <td>16760217.0</td>\n",
       "      <td>116.84</td>\n",
       "    </tr>\n",
       "  </tbody>\n",
       "</table>\n",
       "</div>"
      ],
      "text/plain": [
       "           BuildingType          PrimaryPropertyType Neighborhood  YearBuilt  \\\n",
       "0  Multifamily LR (1-4)         Low-Rise Multifamily     DOWNTOWN     1900.0   \n",
       "1  Multifamily LR (1-4)         Low-Rise Multifamily     DELRIDGE     2007.0   \n",
       "2        NonResidential                 Retail Store     DOWNTOWN     1989.0   \n",
       "3        NonResidential  Small- and Mid-Sized Office     DOWNTOWN     1906.0   \n",
       "4        NonResidential                 Large Office   LAKE UNION     1947.0   \n",
       "\n",
       "   NumberofBuildings  NumberofFloors  PropertyGFATotal  PropertyGFAParking  \\\n",
       "0                1.0             4.0           48383.0                 0.0   \n",
       "1                1.0             4.0           52134.0                 0.0   \n",
       "2                1.0             4.0          111077.0                 0.0   \n",
       "3                1.0             6.0           98370.0             25920.0   \n",
       "4                1.0             4.0          193788.0             37854.0   \n",
       "\n",
       "   PropertyGFABuilding(s) LargestPropertyUseType  LargestPropertyUseTypeGFA  \\\n",
       "0                 48383.0    Multifamily Housing                    38172.0   \n",
       "1                 52134.0    Multifamily Housing                    52134.0   \n",
       "2                111077.0           Retail Store                    39867.5   \n",
       "3                 72450.0                 Office                    98370.0   \n",
       "4                155934.0                 Office                   138672.0   \n",
       "\n",
       "   ENERGYSTARScore  SiteEnergyUse(kBtu)  TotalGHGEmissions  \n",
       "0             75.0            2953338.0             112.06  \n",
       "1             85.0            1212551.0               8.45  \n",
       "2             91.0            9898724.0              69.01  \n",
       "3             45.0            6525887.0              47.24  \n",
       "4             59.0           16760217.0             116.84  "
      ]
     },
     "execution_count": 2,
     "metadata": {},
     "output_type": "execute_result"
    }
   ],
   "source": [
    "# Load binary file with cleaned data\n",
    "data = pd.read_feather(\"p4_data4.ft\")\n",
    "\n",
    "# Display head of the dataframe\n",
    "data.head()"
   ]
  },
  {
   "cell_type": "markdown",
   "metadata": {},
   "source": [
    "# **Modélisation**\n",
    "Nous cherchons à élaborer un modèle de prédiction des émissions de CO2 et de la consommation totale d'énergie à partir d'un jeu de données.\n",
    "\n",
    "Il s'agit donc d'un problème « *machine learning* » de régression (donc un problème d'apprentissage supervisé)."
   ]
  },
  {
   "cell_type": "markdown",
   "metadata": {},
   "source": [
    "### Définition de la \"graine\" pour le générateur pseudo-aléatoire\n",
    "Sélectionner cette graine nous permet d'opérer, lors des validations croisées, sur les mêmes plis (\"*folds*\") pour chaque modèle."
   ]
  },
  {
   "cell_type": "code",
   "execution_count": 3,
   "metadata": {},
   "outputs": [
    {
     "name": "stdout",
     "output_type": "stream",
     "text": [
      "Seed value:  181\n"
     ]
    }
   ],
   "source": [
    "# Set random integer (seed)\n",
    "from random import randrange\n",
    "seed = randrange(1000)\n",
    "print(\"Seed value: \", seed)"
   ]
  },
  {
   "cell_type": "markdown",
   "metadata": {},
   "source": [
    "## Séparation des données étiquettées et des données non-étiquettées\n",
    "Nous avons vu précédemment que certaines données (en fait, une seule) n'ont pas de valeurs renseignées pour la valeur cible.\n",
    "Nous allons mettre à part ces lignes pour un traitement ultérieur avec notre modèle."
   ]
  },
  {
   "cell_type": "code",
   "execution_count": 4,
   "metadata": {},
   "outputs": [],
   "source": [
    "def missing_target(dataframe, target):\n",
    "    \"\"\"This function takes a dataframe and target feature, and returns\n",
    "    a view of the dataframe containing the rows where the target value is missing.\n",
    "    It also remove these rows from the original dataframe.\"\"\"\n",
    "    \n",
    "    # Mask for rows where the target value is missing\n",
    "    mask = dataframe[target].isnull()\n",
    "    \n",
    "    # Applying the mask to the dataframe and saving it as a copy\n",
    "    result = dataframe[mask].copy()\n",
    "    \n",
    "    # Deleting the rows with missing target from the dataframe\n",
    "    dataframe.dropna(subset=[target], inplace=True)\n",
    "    \n",
    "    # Returning a dataframe with rows where target is missing\n",
    "    return result"
   ]
  },
  {
   "cell_type": "code",
   "execution_count": 5,
   "metadata": {},
   "outputs": [
    {
     "data": {
      "text/html": [
       "<div>\n",
       "<style scoped>\n",
       "    .dataframe tbody tr th:only-of-type {\n",
       "        vertical-align: middle;\n",
       "    }\n",
       "\n",
       "    .dataframe tbody tr th {\n",
       "        vertical-align: top;\n",
       "    }\n",
       "\n",
       "    .dataframe thead th {\n",
       "        text-align: right;\n",
       "    }\n",
       "</style>\n",
       "<table border=\"1\" class=\"dataframe\">\n",
       "  <thead>\n",
       "    <tr style=\"text-align: right;\">\n",
       "      <th></th>\n",
       "      <th>BuildingType</th>\n",
       "      <th>PrimaryPropertyType</th>\n",
       "      <th>Neighborhood</th>\n",
       "      <th>YearBuilt</th>\n",
       "      <th>NumberofBuildings</th>\n",
       "      <th>NumberofFloors</th>\n",
       "      <th>PropertyGFATotal</th>\n",
       "      <th>PropertyGFAParking</th>\n",
       "      <th>PropertyGFABuilding(s)</th>\n",
       "      <th>LargestPropertyUseType</th>\n",
       "      <th>LargestPropertyUseTypeGFA</th>\n",
       "      <th>ENERGYSTARScore</th>\n",
       "      <th>SiteEnergyUse(kBtu)</th>\n",
       "      <th>TotalGHGEmissions</th>\n",
       "    </tr>\n",
       "  </thead>\n",
       "  <tbody>\n",
       "    <tr>\n",
       "      <th>36</th>\n",
       "      <td>SPS-District K-12</td>\n",
       "      <td>K-12 School</td>\n",
       "      <td>NORTHWEST</td>\n",
       "      <td>1953.0</td>\n",
       "      <td>1.0</td>\n",
       "      <td>1.0</td>\n",
       "      <td>110830.0</td>\n",
       "      <td>0.0</td>\n",
       "      <td>110830.0</td>\n",
       "      <td>K-12 School</td>\n",
       "      <td>110830.0</td>\n",
       "      <td>75.5</td>\n",
       "      <td>NaN</td>\n",
       "      <td>NaN</td>\n",
       "    </tr>\n",
       "    <tr>\n",
       "      <th>65</th>\n",
       "      <td>Multifamily LR (1-4)</td>\n",
       "      <td>Low-Rise Multifamily</td>\n",
       "      <td>MAGNOLIA / QUEEN ANNE</td>\n",
       "      <td>1957.0</td>\n",
       "      <td>1.0</td>\n",
       "      <td>4.0</td>\n",
       "      <td>23636.0</td>\n",
       "      <td>0.0</td>\n",
       "      <td>23636.0</td>\n",
       "      <td>Low-Rise Multifamily</td>\n",
       "      <td>39867.5</td>\n",
       "      <td>75.5</td>\n",
       "      <td>NaN</td>\n",
       "      <td>NaN</td>\n",
       "    </tr>\n",
       "    <tr>\n",
       "      <th>900</th>\n",
       "      <td>Multifamily LR (1-4)</td>\n",
       "      <td>Low-Rise Multifamily</td>\n",
       "      <td>NORTHEAST</td>\n",
       "      <td>1977.0</td>\n",
       "      <td>1.0</td>\n",
       "      <td>3.0</td>\n",
       "      <td>33166.0</td>\n",
       "      <td>0.0</td>\n",
       "      <td>33166.0</td>\n",
       "      <td>Low-Rise Multifamily</td>\n",
       "      <td>39867.5</td>\n",
       "      <td>75.5</td>\n",
       "      <td>NaN</td>\n",
       "      <td>NaN</td>\n",
       "    </tr>\n",
       "    <tr>\n",
       "      <th>120</th>\n",
       "      <td>Multifamily LR (1-4)</td>\n",
       "      <td>Low-Rise Multifamily</td>\n",
       "      <td>EAST</td>\n",
       "      <td>2015.0</td>\n",
       "      <td>1.0</td>\n",
       "      <td>4.0</td>\n",
       "      <td>36685.0</td>\n",
       "      <td>8254.0</td>\n",
       "      <td>28431.0</td>\n",
       "      <td>Low-Rise Multifamily</td>\n",
       "      <td>39867.5</td>\n",
       "      <td>75.5</td>\n",
       "      <td>820220.125</td>\n",
       "      <td>NaN</td>\n",
       "    </tr>\n",
       "  </tbody>\n",
       "</table>\n",
       "</div>"
      ],
      "text/plain": [
       "             BuildingType   PrimaryPropertyType           Neighborhood  \\\n",
       "36      SPS-District K-12           K-12 School              NORTHWEST   \n",
       "65   Multifamily LR (1-4)  Low-Rise Multifamily  MAGNOLIA / QUEEN ANNE   \n",
       "900  Multifamily LR (1-4)  Low-Rise Multifamily              NORTHEAST   \n",
       "120  Multifamily LR (1-4)  Low-Rise Multifamily                   EAST   \n",
       "\n",
       "     YearBuilt  NumberofBuildings  NumberofFloors  PropertyGFATotal  \\\n",
       "36      1953.0                1.0             1.0          110830.0   \n",
       "65      1957.0                1.0             4.0           23636.0   \n",
       "900     1977.0                1.0             3.0           33166.0   \n",
       "120     2015.0                1.0             4.0           36685.0   \n",
       "\n",
       "     PropertyGFAParking  PropertyGFABuilding(s) LargestPropertyUseType  \\\n",
       "36                  0.0                110830.0            K-12 School   \n",
       "65                  0.0                 23636.0   Low-Rise Multifamily   \n",
       "900                 0.0                 33166.0   Low-Rise Multifamily   \n",
       "120              8254.0                 28431.0   Low-Rise Multifamily   \n",
       "\n",
       "     LargestPropertyUseTypeGFA  ENERGYSTARScore  SiteEnergyUse(kBtu)  \\\n",
       "36                    110830.0             75.5                  NaN   \n",
       "65                     39867.5             75.5                  NaN   \n",
       "900                    39867.5             75.5                  NaN   \n",
       "120                    39867.5             75.5           820220.125   \n",
       "\n",
       "     TotalGHGEmissions  \n",
       "36                 NaN  \n",
       "65                 NaN  \n",
       "900                NaN  \n",
       "120                NaN  "
      ]
     },
     "execution_count": 5,
     "metadata": {},
     "output_type": "execute_result"
    }
   ],
   "source": [
    "target_cols = ['SiteEnergyUse(kBtu)','TotalGHGEmissions']\n",
    "dataframe = data\n",
    "\n",
    "# Initializing\n",
    "production_set = pd.DataFrame()\n",
    "\n",
    "# concatenating rows with missing values on any target\n",
    "for target in target_cols:\n",
    "    production_set = pd.concat([\n",
    "        production_set,\n",
    "        missing_target(dataframe, target)\n",
    "    ])\n",
    "\n",
    "# dropping duplicates rows (missing several targets)\n",
    "production_set = production_set.drop_duplicates(keep='first')\n",
    "\n",
    "# Display the 'production set' on which to apply the ML model\n",
    "production_set"
   ]
  },
  {
   "cell_type": "markdown",
   "metadata": {},
   "source": [
    "Nous voyons que nous n'avons ici que quelques bâtiments pour lequels l'une au moins des deux valeurs cibles n'est pas renseignée. Nous utiliserons ce jeu de données pour valider le flux de travail à l'issue de la modélisation."
   ]
  },
  {
   "cell_type": "markdown",
   "metadata": {},
   "source": [
    "## Séparation des variables explicatives (*features*) et des étiquettes (*targets*)\n",
    "Il y a deux variables à estimer :\n",
    "* 'TotalGHGEmissions': *The total amount of greenhouse gas emissions, including carbon dioxide, methane, and nitrous oxide gases released into the atmosphere as a result of energy consumption at the property, measured in metric tons of carbon dioxide equivalent.*\n",
    "* 'SiteEnergyUse(kBtu)': *The annual amount of energy consumed by the property from all sources of energy.*"
   ]
  },
  {
   "cell_type": "code",
   "execution_count": 6,
   "metadata": {},
   "outputs": [],
   "source": [
    "# Features : all data DataFrame, except targets (2 last columns)\n",
    "X = data.iloc[:, 0:-2]\n",
    "\n",
    "# Choice of target (re-run the full notebook in another kernel)\n",
    "# target_feature = 'SiteEnergyUse(kBtu)'\n",
    "target_feature = 'TotalGHGEmissions'\n",
    "\n",
    "# Creating target vector\n",
    "y = data[target_feature]"
   ]
  },
  {
   "cell_type": "code",
   "execution_count": 7,
   "metadata": {},
   "outputs": [
    {
     "data": {
      "text/html": [
       "<div>\n",
       "<style scoped>\n",
       "    .dataframe tbody tr th:only-of-type {\n",
       "        vertical-align: middle;\n",
       "    }\n",
       "\n",
       "    .dataframe tbody tr th {\n",
       "        vertical-align: top;\n",
       "    }\n",
       "\n",
       "    .dataframe thead th {\n",
       "        text-align: right;\n",
       "    }\n",
       "</style>\n",
       "<table border=\"1\" class=\"dataframe\">\n",
       "  <thead>\n",
       "    <tr style=\"text-align: right;\">\n",
       "      <th></th>\n",
       "      <th>BuildingType</th>\n",
       "      <th>PrimaryPropertyType</th>\n",
       "      <th>Neighborhood</th>\n",
       "      <th>YearBuilt</th>\n",
       "      <th>NumberofBuildings</th>\n",
       "      <th>NumberofFloors</th>\n",
       "      <th>PropertyGFATotal</th>\n",
       "      <th>PropertyGFAParking</th>\n",
       "      <th>PropertyGFABuilding(s)</th>\n",
       "      <th>LargestPropertyUseType</th>\n",
       "      <th>LargestPropertyUseTypeGFA</th>\n",
       "      <th>ENERGYSTARScore</th>\n",
       "    </tr>\n",
       "  </thead>\n",
       "  <tbody>\n",
       "    <tr>\n",
       "      <th>0</th>\n",
       "      <td>Multifamily LR (1-4)</td>\n",
       "      <td>Low-Rise Multifamily</td>\n",
       "      <td>DOWNTOWN</td>\n",
       "      <td>1900.0</td>\n",
       "      <td>1.0</td>\n",
       "      <td>4.0</td>\n",
       "      <td>48383.0</td>\n",
       "      <td>0.0</td>\n",
       "      <td>48383.0</td>\n",
       "      <td>Multifamily Housing</td>\n",
       "      <td>38172.0</td>\n",
       "      <td>75.0</td>\n",
       "    </tr>\n",
       "    <tr>\n",
       "      <th>1</th>\n",
       "      <td>Multifamily LR (1-4)</td>\n",
       "      <td>Low-Rise Multifamily</td>\n",
       "      <td>DELRIDGE</td>\n",
       "      <td>2007.0</td>\n",
       "      <td>1.0</td>\n",
       "      <td>4.0</td>\n",
       "      <td>52134.0</td>\n",
       "      <td>0.0</td>\n",
       "      <td>52134.0</td>\n",
       "      <td>Multifamily Housing</td>\n",
       "      <td>52134.0</td>\n",
       "      <td>85.0</td>\n",
       "    </tr>\n",
       "    <tr>\n",
       "      <th>2</th>\n",
       "      <td>NonResidential</td>\n",
       "      <td>Retail Store</td>\n",
       "      <td>DOWNTOWN</td>\n",
       "      <td>1989.0</td>\n",
       "      <td>1.0</td>\n",
       "      <td>4.0</td>\n",
       "      <td>111077.0</td>\n",
       "      <td>0.0</td>\n",
       "      <td>111077.0</td>\n",
       "      <td>Retail Store</td>\n",
       "      <td>39867.5</td>\n",
       "      <td>91.0</td>\n",
       "    </tr>\n",
       "    <tr>\n",
       "      <th>3</th>\n",
       "      <td>NonResidential</td>\n",
       "      <td>Small- and Mid-Sized Office</td>\n",
       "      <td>DOWNTOWN</td>\n",
       "      <td>1906.0</td>\n",
       "      <td>1.0</td>\n",
       "      <td>6.0</td>\n",
       "      <td>98370.0</td>\n",
       "      <td>25920.0</td>\n",
       "      <td>72450.0</td>\n",
       "      <td>Office</td>\n",
       "      <td>98370.0</td>\n",
       "      <td>45.0</td>\n",
       "    </tr>\n",
       "    <tr>\n",
       "      <th>4</th>\n",
       "      <td>NonResidential</td>\n",
       "      <td>Large Office</td>\n",
       "      <td>LAKE UNION</td>\n",
       "      <td>1947.0</td>\n",
       "      <td>1.0</td>\n",
       "      <td>4.0</td>\n",
       "      <td>193788.0</td>\n",
       "      <td>37854.0</td>\n",
       "      <td>155934.0</td>\n",
       "      <td>Office</td>\n",
       "      <td>138672.0</td>\n",
       "      <td>59.0</td>\n",
       "    </tr>\n",
       "  </tbody>\n",
       "</table>\n",
       "</div>"
      ],
      "text/plain": [
       "           BuildingType          PrimaryPropertyType Neighborhood  YearBuilt  \\\n",
       "0  Multifamily LR (1-4)         Low-Rise Multifamily     DOWNTOWN     1900.0   \n",
       "1  Multifamily LR (1-4)         Low-Rise Multifamily     DELRIDGE     2007.0   \n",
       "2        NonResidential                 Retail Store     DOWNTOWN     1989.0   \n",
       "3        NonResidential  Small- and Mid-Sized Office     DOWNTOWN     1906.0   \n",
       "4        NonResidential                 Large Office   LAKE UNION     1947.0   \n",
       "\n",
       "   NumberofBuildings  NumberofFloors  PropertyGFATotal  PropertyGFAParking  \\\n",
       "0                1.0             4.0           48383.0                 0.0   \n",
       "1                1.0             4.0           52134.0                 0.0   \n",
       "2                1.0             4.0          111077.0                 0.0   \n",
       "3                1.0             6.0           98370.0             25920.0   \n",
       "4                1.0             4.0          193788.0             37854.0   \n",
       "\n",
       "   PropertyGFABuilding(s) LargestPropertyUseType  LargestPropertyUseTypeGFA  \\\n",
       "0                 48383.0    Multifamily Housing                    38172.0   \n",
       "1                 52134.0    Multifamily Housing                    52134.0   \n",
       "2                111077.0           Retail Store                    39867.5   \n",
       "3                 72450.0                 Office                    98370.0   \n",
       "4                155934.0                 Office                   138672.0   \n",
       "\n",
       "   ENERGYSTARScore  \n",
       "0             75.0  \n",
       "1             85.0  \n",
       "2             91.0  \n",
       "3             45.0  \n",
       "4             59.0  "
      ]
     },
     "execution_count": 7,
     "metadata": {},
     "output_type": "execute_result"
    }
   ],
   "source": [
    "X.head()"
   ]
  },
  {
   "cell_type": "code",
   "execution_count": 8,
   "metadata": {},
   "outputs": [
    {
     "data": {
      "text/plain": [
       "0    112.06\n",
       "1      8.45\n",
       "2     69.01\n",
       "3     47.24\n",
       "4    116.84\n",
       "Name: TotalGHGEmissions, dtype: float64"
      ]
     },
     "execution_count": 8,
     "metadata": {},
     "output_type": "execute_result"
    }
   ],
   "source": [
    "y.head()"
   ]
  },
  {
   "cell_type": "markdown",
   "metadata": {},
   "source": [
    "### Suppression préalable des valeurs hors-normes"
   ]
  },
  {
   "cell_type": "code",
   "execution_count": 9,
   "metadata": {},
   "outputs": [
    {
     "name": "stdout",
     "output_type": "stream",
     "text": [
      "Number of detected outliers: 370\n"
     ]
    }
   ],
   "source": [
    "# Setting parameters\n",
    "series = y\n",
    "\n",
    "# Computing first and third quartiles and inter-quartile range\n",
    "Q1 = series.quantile(q=0.25, interpolation='linear')   # first quartile\n",
    "Q3 = series.quantile(q=0.75, interpolation='linear')   # third quartile\n",
    "IQR = Q3 - Q1\n",
    "\n",
    "# definition of mask\n",
    "mask = (series < Q1 - 1.5*IQR) | (series > Q3 + 1.5*IQR)\n",
    "\n",
    "# Calling the function to get the outliers\n",
    "outliers = series[mask]\n",
    "\n",
    "# Displays number of outliers\n",
    "print(\"Number of detected outliers:\", len(outliers))\n",
    "\n",
    "# Deleting outliers\n",
    "X = X[~mask];\n",
    "y = y[~mask];"
   ]
  },
  {
   "cell_type": "markdown",
   "metadata": {},
   "source": [
    "### Séparation du jeu de données d'entraînement et du jeu de données de test\n",
    "**Remarque :** comme les hyperparamètres et le modèle seront séléctionnées par **validation croisée imbriquée**, il n'est pas nécessaire de séparer jeux d'entraînement, de test et de validation."
   ]
  },
  {
   "cell_type": "code",
   "execution_count": 10,
   "metadata": {},
   "outputs": [
    {
     "name": "stdout",
     "output_type": "stream",
     "text": [
      "Shape of X_train: (2140, 12)\n",
      "Shape of y_test: (918,)\n"
     ]
    }
   ],
   "source": [
    "from sklearn.model_selection import train_test_split\n",
    "\n",
    "# Splitting the data in train set and test set\n",
    "X_train, X_test, y_train, y_test = train_test_split(\n",
    "    X, \n",
    "    y, \n",
    "    train_size=0.7, \n",
    "    test_size=0.3, \n",
    "    random_state=seed\n",
    ")\n",
    "\n",
    "# Shapes of X_train and y_test\n",
    "print(\"Shape of X_train: {}\".format(X_train.shape))\n",
    "\n",
    "# Shapes of X_train and y_test\n",
    "print(\"Shape of y_test: {}\".format(y_test.shape))"
   ]
  },
  {
   "cell_type": "markdown",
   "metadata": {},
   "source": [
    "### Choix de la métrique et Régresseur naïf (modèle de référence)\n",
    "Comme métrique d'évaluation, nous utilisons le **coefficient de détermination R²** pour lequel le meilleur score est 1. Ce coefficient mesure la proportion de la variance de la variable dépendante expliquée par les variables indépendantes.\n",
    "\n",
    "$$R^{2} = 1 - \\frac{\\sum\\limits_{i=1}^n (y_i - \\hat{y_i})}{\\sum\\limits_{i=1}^n (y_i - \\bar{y_i})}$$\n",
    "\n",
    "**Remarque :** en raison de ce choix, nous n'avons pas besoin d'entraîner un **modèle naïf** de référence. En effet, un régresseur naïf prédisant la valeur moyenne des étiquette, obtiendra un **score R² de 0**."
   ]
  },
  {
   "cell_type": "code",
   "execution_count": 11,
   "metadata": {},
   "outputs": [],
   "source": [
    "# Setting evaluation metric for regression\n",
    "scoring='r2'"
   ]
  },
  {
   "cell_type": "markdown",
   "metadata": {},
   "source": [
    "## **Définition du Pipeline incluant le pré-traitement**\n",
    "Nous procédons à une validation croisée pour sélectionner les hyperparamètres et le modèle.\n",
    "\n",
    "Pour que le prétraitement soit réalisé sans fuite de données, nous utiliserons un « pipeline »."
   ]
  },
  {
   "cell_type": "markdown",
   "metadata": {},
   "source": [
    "### Définition du prétraitement différencié selon les colonnes\n",
    "\n",
    "Nous appliquerons un pré-traitement différencié selon que les caractéristiques sont quantitatives ou catégorielles. Dans cette partie, nous définissons ce pré-traitement dans un pipe-line pour usage ultérieur, intégré à la validation croisée.\n",
    "* imputation\n",
    "* standardisation\n",
    "* passage au log\n",
    "* *target encoding*\n",
    "* interaction and polynomial features"
   ]
  },
  {
   "cell_type": "code",
   "execution_count": 12,
   "metadata": {},
   "outputs": [
    {
     "name": "stdout",
     "output_type": "stream",
     "text": [
      "Categorical features:  ['BuildingType', 'PrimaryPropertyType', 'Neighborhood', 'LargestPropertyUseType']\n",
      "\n",
      "Numeric features:  ['YearBuilt', 'NumberofBuildings', 'NumberofFloors', 'PropertyGFATotal', 'PropertyGFAParking', 'PropertyGFABuilding(s)', 'LargestPropertyUseTypeGFA', 'ENERGYSTARScore']\n"
     ]
    }
   ],
   "source": [
    "# Select categorical columns (ordered and non-ordered)\n",
    "categorical_features = list(X.select_dtypes(include='category').columns)\n",
    "print(\"Categorical features: \", categorical_features)\n",
    "\n",
    "# Select numerical columns\n",
    "numeric_features = list(X.select_dtypes(include='number').columns)\n",
    "print(\"\\nNumeric features: \", numeric_features)"
   ]
  },
  {
   "cell_type": "code",
   "execution_count": 13,
   "metadata": {},
   "outputs": [],
   "source": [
    "def define_preprocessor(X):\n",
    "\n",
    "    # Load libraries\n",
    "    from sklearn.pipeline import Pipeline\n",
    "    from sklearn.preprocessing import StandardScaler\n",
    "    from category_encoders.target_encoder import TargetEncoder\n",
    "    from sklearn.compose import ColumnTransformer\n",
    "    from sklearn.impute import SimpleImputer\n",
    "\n",
    "    try:\n",
    "        from sklearn.experimental import enable_iterative_imputer\n",
    "        from sklearn.impute import IterativeImputer\n",
    "\n",
    "    # if problems encountered during import of IterativeImputer\n",
    "    except:\n",
    "\n",
    "        # Preprocessing pipeline for categorical features\n",
    "        categorical_transformer = Pipeline(steps=[\n",
    "            ('imputer', SimpleImputer(strategy='constant', fill_value='missing')), # simple imputation\n",
    "            ('target_encoder', TargetEncoder()), # target encoding\n",
    "            ('scaler', StandardScaler()), # standardization after target encoding\n",
    "            ])\n",
    "\n",
    "        # Preprocessing pipeline for numeric features\n",
    "        numeric_transformer = Pipeline(steps=[\n",
    "            ('imputer', SimpleImputer(strategy='median')), # simple imputation\n",
    "            ('scaler', StandardScaler()), # standardization\n",
    "             ])\n",
    "\n",
    "    # if no problem with IterativeImputer    \n",
    "    else: \n",
    "        # Preprocessing pipeline for categorical features\n",
    "        categorical_transformer = Pipeline(steps=[\n",
    "            ('imputer', SimpleImputer(strategy='constant', fill_value='missing')), # simple imputation\n",
    "            ('target_encoder', TargetEncoder()), # target encoding\n",
    "            ('scaler', StandardScaler()), # standardization after target encoding\n",
    "            ])\n",
    "\n",
    "        # Preprocessing pipeline for numeric features\n",
    "        numeric_transformer = Pipeline(steps=[\n",
    "            ('imputer', IterativeImputer()), # iterative imputation\n",
    "            ('scaler', StandardScaler()), # standardization\n",
    "             ])\n",
    "\n",
    "    # in all cases\n",
    "    finally: \n",
    "        # Preprocessing column-wise using pipelines for numeric and categorical features\n",
    "        preprocessor = ColumnTransformer(transformers=[\n",
    "            ('cat', categorical_transformer, list(X.select_dtypes(include='category').columns)),\n",
    "            ('num', numeric_transformer, list(X.select_dtypes(include='number').columns)),\n",
    "            ])\n",
    "        \n",
    "    return preprocessor\n",
    "\n",
    "preprocessor = define_preprocessor(X)"
   ]
  },
  {
   "cell_type": "raw",
   "metadata": {},
   "source": [
    "# For debug purpose\n",
    "preprocessor.fit(X_train, y_train)"
   ]
  },
  {
   "cell_type": "markdown",
   "metadata": {},
   "source": [
    "### Définition du pipe-line\n",
    "Pour éviter les \"fuites de données\", nous effectuerons les transformations de prétraitement dans un \"pipe-line\" intégré à la recherche sur grille avec validation croisée.\n",
    "Nous définissons un pipe-line incluant tout le pré-traitement avec un modèle de regression naïf.\n",
    "\n",
    "**Remarque :** les véritables modèles seront définis dans les espaces de recherche."
   ]
  },
  {
   "cell_type": "code",
   "execution_count": 14,
   "metadata": {},
   "outputs": [],
   "source": [
    "from sklearn.dummy import DummyRegressor\n",
    "from tempfile import mkdtemp\n",
    "\n",
    "# Create temp directory for caching transformers: avoid repeated computation\n",
    "cachedir = mkdtemp()\n",
    "\n",
    "def define_pipeline(preprocessor, regressor):\n",
    "\n",
    "    # Load libraries\n",
    "    from sklearn.pipeline import Pipeline\n",
    "\n",
    "    # Create a pipeline\n",
    "    pipe = Pipeline([(\"preprocess\", preprocessor), # preprocessing steps\n",
    "                     (\"regressor\", regressor), # dummy regression model\n",
    "                    ],\n",
    "                    memory=cachedir,\n",
    "    )\n",
    "    \n",
    "    # Return pipeline\n",
    "    return pipe\n",
    "\n",
    "pipe = define_pipeline(preprocessor, DummyRegressor())"
   ]
  },
  {
   "cell_type": "markdown",
   "metadata": {},
   "source": [
    "## **Définition des espaces de recherche**\n",
    "Scikit-learn propose des **méthodes spécifiques** à certains algorithmes pour la sélection des hyper-paramètres. (Voir aussi :  __[documentation scikit-learn](https://scikit-learn.org/stable/modules/grid_search.html#model-specific-cross-validation)__) Néanmoins, nous choisissons d'utiliser la même méthode de recherche pour chaque algorithme.\n",
    "\n",
    "Nous allons utiliser une recherche sur grille avec validation croisée (*RandomizedSearchCV*). Pour des raisons de performances et de lisibilité du code, nous choississons d'établir une grille de recherche distincte pour chacun des modèles.\n",
    "\n",
    "**Remarque :** nous ne testons pas les modèles de réseaux de neurones, en raison du trop faible nombre d'observations."
   ]
  },
  {
   "cell_type": "markdown",
   "metadata": {},
   "source": [
    "### ElasticNet"
   ]
  },
  {
   "cell_type": "markdown",
   "metadata": {},
   "source": [
    "L'implémentation du modèle de régression linéaire régularisée *ElasticNet* dans *scikit-learn* correspond à la fonction de perte suivante :\n",
    "\n",
    "$$ \\hat{\\beta} =  \\underset{\\beta \\in \\mathbb{R}^{p+1}}{\\text{argmin}} [\\frac{1}{2N} · ||y - X_\\beta||^2_2 + \\alpha  · ( \\rho · ||\\beta||_1 + (1 - \\rho) · \\frac{1}{2} · ||\\beta||^2_2 )]$$\n",
    "\n",
    "**Hyper-paramètres :**\n",
    "* alpha : intensité de la régularisation\n",
    "* l1_ratio : balance entre la régularisation l1 et la régularisation l2"
   ]
  },
  {
   "cell_type": "code",
   "execution_count": 15,
   "metadata": {},
   "outputs": [],
   "source": [
    "# Grid of research for ElasticNet\n",
    "from sklearn.linear_model import ElasticNet\n",
    "\n",
    "# Create space of candidate values for hyperparameters\n",
    "param_grid_elastic = [{\n",
    "    \"regressor\": [ElasticNet(max_iter=1000)], # elastic net regressor\n",
    "    \"regressor__alpha\": np.logspace(-3, 1, 5), # penalty intensity (5 values between 10⁻³ and 10¹)\n",
    "    \"regressor__l1_ratio\": np.linspace(0, 1, 5) #  mixing parameter for l1 and l2 penalties (4 values between 0 and 1)\n",
    "}]"
   ]
  },
  {
   "cell_type": "markdown",
   "metadata": {},
   "source": [
    "### k-SVR\n",
    "Machine à vecteur de support à noyau pour la régression (k-SVR)\n",
    "\n",
    "**Hyper-paramètres :**\n",
    "* C : pénalité pour le terme d'erreur\n",
    "* kernel : nature du noyau (linéaire, gaussien, polynomial)\n",
    "* gamma : paramètre pour le noyau gaussien\n"
   ]
  },
  {
   "cell_type": "code",
   "execution_count": 16,
   "metadata": {},
   "outputs": [],
   "source": [
    "# Grid of research for k-SVR\n",
    "from sklearn.svm import SVR\n",
    "\n",
    "# Create space of candidate values for hyperparameters\n",
    "param_grid_svr_poly = [{# hyper-parameters for polynomial kernel\n",
    "    \"regressor\": [SVR()], # k-SVM regressor\n",
    "    \"regressor__kernel\": ['poly'],\n",
    "    \"regressor__C\": [1, 10, 100], # C : penalty parameter of the error term  \n",
    "    \"regressor__coef0\" : [0, 1], # coef0 : independent term in kernel\n",
    "    \"regressor__degree\" : [2, 5], # degree of the polynomial kernel function\n",
    "    }]\n",
    "\n",
    "param_grid_svr_linear = [{# hyper-parameters for linear kernel\n",
    "    \"regressor\": [SVR()], # k-SVM regressor\n",
    "    \"regressor__kernel\": ['linear'],\n",
    "    \"regressor__C\": [0.001, 0.01, 0.1, 1, 10, 100, 1000], # C : penalty parameter of the error term    \n",
    "    }]\n",
    "\n",
    "param_grid_svr_gaussian = [{# hyper-parameters for gaussian kernel\n",
    "    \"regressor\": [SVR()], # k-SVM regressor\n",
    "    \"regressor__kernel\": ['rbf'],\n",
    "    \"regressor__C\": [1, 10, 100], # C : penalty parameter of the error term    \n",
    "    \"regressor__gamma\" : [0.0001, 0.001, 0.01, 0.1], # specific for gaussian kernel\n",
    "    }]"
   ]
  },
  {
   "cell_type": "markdown",
   "metadata": {},
   "source": [
    "### kNN\n",
    "k-plus proches voisins pour la régression (k-NN regressor) car le jeu de données est de taille réduite\n",
    "\n",
    "**Hyper-paramètres :**\n",
    "* k : nombre de voisins considérés\n",
    "* weight : type de pondération des voisins selon la distance"
   ]
  },
  {
   "cell_type": "code",
   "execution_count": 17,
   "metadata": {},
   "outputs": [],
   "source": [
    "# Grid of research for kNN\n",
    "from sklearn.neighbors import KNeighborsRegressor\n",
    "\n",
    "# Create space of candidate values for hyperparameters\n",
    "param_grid_knn = [{\n",
    "    \"regressor\": [KNeighborsRegressor(n_jobs=-1)], # kNN regressor\n",
    "    \"regressor__n_neighbors\": range(1, 20, 1), # number of neighbors to consider\n",
    "    \"regressor__weights\": ['uniform', 'distance'], # ponderation of weights of neighbors\n",
    "}]"
   ]
  },
  {
   "cell_type": "markdown",
   "metadata": {},
   "source": [
    "### Random Forest\n",
    "Forêt aléatoire pour la régression (*random forest regressor*).\n",
    "\n",
    "**Hyper-paramètres :**\n",
    "* max_features : nombre de variables à prendre en compte à chaque noeud\n",
    "* n_estimators : nombre d'arbres de décisions à entraîner"
   ]
  },
  {
   "cell_type": "code",
   "execution_count": 18,
   "metadata": {},
   "outputs": [],
   "source": [
    "# Grid of research for Random Forest\n",
    "from sklearn.ensemble import RandomForestRegressor\n",
    "\n",
    "# Create space of candidate values for hyperparameters\n",
    "param_grid_forest = [{\n",
    "    \"regressor\": [RandomForestRegressor(n_jobs=-1, random_state=seed)], # random forest regressor\n",
    "    \"regressor__n_estimators\": [10, 100, 1000], # number of trees to construct\n",
    "    \"regressor__max_features\": range(2, 6, 1), # number of features to consider at each node\n",
    "}]"
   ]
  },
  {
   "cell_type": "markdown",
   "metadata": {},
   "source": [
    "### AdaBoost\n",
    "\n",
    "**Hyper-paramètres :**\n",
    "* n_estimators : nombre d'arbres de décisions à entraîner\n",
    "* learning_rate : contrôle la vitesse d'apprentissage via la contribution de chaque modèle à la pondération\n",
    "* loss : définition de la fonction de perte (linear, square, exponential)"
   ]
  },
  {
   "cell_type": "code",
   "execution_count": 19,
   "metadata": {},
   "outputs": [],
   "source": [
    "# Grid of research for AdaBoost\n",
    "from sklearn.ensemble import AdaBoostRegressor\n",
    "\n",
    "# Create space of candidate values for hyperparameters\n",
    "param_grid_adaboost = [{\n",
    "    \"regressor\": [AdaBoostRegressor(random_state=seed)], # AdaBoost regressor\n",
    "    # \"regressor__base_estimator\": [None], # weak models to use, default : DecisionTreeRegressor(max_depth=3)\n",
    "    \"regressor__n_estimators\": [10, 100, 1000], # number of weak models to iteratively train\n",
    "    \"regressor__learning_rate\": np.logspace(-2, 1, 4), # learning rate, from 10⁻² to 10¹\n",
    "    \"regressor__loss\": ['linear', 'square', 'exponential'] # loss function for weights update\n",
    "    # voir paramètre pour la régularisation ???\n",
    "}]"
   ]
  },
  {
   "cell_type": "markdown",
   "metadata": {},
   "source": [
    "### Dictionnaire des espaces de recherche"
   ]
  },
  {
   "cell_type": "markdown",
   "metadata": {},
   "source": [
    "Nous pouvons enregister les différents espaces de recherche dans un dictionnaire."
   ]
  },
  {
   "cell_type": "code",
   "execution_count": 20,
   "metadata": {},
   "outputs": [],
   "source": [
    "# Dictionnary of search spaces for each family of models\n",
    "param_grids = {\n",
    "    'ElasticNet': param_grid_elastic, # space of search for ElasticNet\n",
    "    'kSVM poly': param_grid_svr_poly, # space of search for k-SVR with polynomial kernel\n",
    "    'kSVM linear': param_grid_svr_linear, # space of search for k-SVR\n",
    "    'kSVM gaussian': param_grid_svr_gaussian, # space of search for k-SVR\n",
    "    'kNN': param_grid_knn, # space of search for kNN regressor\n",
    "    'RandomForest': param_grid_forest, # space of search for random forest\n",
    "    'AdaBoost': param_grid_adaboost, # space of search for AdaBoost regressor\n",
    "              }"
   ]
  },
  {
   "cell_type": "markdown",
   "metadata": {},
   "source": [
    "## **Recherche sur grille avec validation croisée**\n",
    "Nous allons optimiser le choix des hyper-paramètres en utilisant une validation croisée (interne)\n",
    "\n",
    "**Remarque :** nous conservons la métrique par défaut de scikit-learn pour les régression : le **score R²**."
   ]
  },
  {
   "cell_type": "markdown",
   "metadata": {},
   "source": [
    "### Définition du générateur de validation croisée (interne)"
   ]
  },
  {
   "cell_type": "code",
   "execution_count": 21,
   "metadata": {},
   "outputs": [],
   "source": [
    "from sklearn.model_selection import KFold\n",
    "\n",
    "# Define the cross-validation generator\n",
    "cv_inner = KFold(\n",
    "    n_splits=10, # number of folds (default=5)\n",
    "    shuffle=True, # shuffle the data before splitting into batche\n",
    "    random_state=seed, # seeding the random number generator for shuffling\n",
    ")"
   ]
  },
  {
   "cell_type": "markdown",
   "metadata": {},
   "source": [
    "### Instanciations et entraînements des objets BayesSearchCV"
   ]
  },
  {
   "cell_type": "raw",
   "metadata": {
    "jupyter": {
     "outputs_hidden": true,
     "source_hidden": true
    }
   },
   "source": [
    "# Load libraries\n",
    "from skopt import BayesSearchCV\n",
    "from skopt.space import Real, Categorical, Integer\n",
    "from sklearn.svm import SVC\n",
    "\n",
    "opt = BayesSearchCV(SVC(), { 'C': Real(1e-6, 1e+6, prior='log-uniform'), 'gamma': Real(1e-6, 1e+1, prior='log-uniform'), 'degree': Integer(1,8), 'kernel': Categorical(['linear', 'poly', 'rbf']), }, n_iter=32 )"
   ]
  },
  {
   "cell_type": "raw",
   "metadata": {
    "jupyter": {
     "source_hidden": true
    }
   },
   "source": [
    "# Load libraries\n",
    "from skopt import BayesSearchCV\n",
    "from skopt.space import Real, Categorical, Integer\n",
    "\n",
    "# Initialising the dict of results of BayesSearchCV\n",
    "bayes_search_dict = {}\n",
    "\n",
    "# Iterating over models and related parameters grids\n",
    "for model, param_grid in param_grids.items():\n",
    "    print(\"\\nProceeding BayesSearchCV for {}…\".format(model))\n",
    "    \n",
    "    # Intenciation of BayesSearchCV object\n",
    "    bayes_search = BayesSearchCV(\n",
    "        estimator=pipe, # use of the pipeline (preprocessing + model dummy)\n",
    "        search_spaces=param_grid, # choice of hyper-parameters to test\n",
    "        scoring=scoring, # scoring method for regression\n",
    "        cv=cv_inner, # cross-validation generator\n",
    "        n_jobs=-1, # use all available cores (parallelization)\n",
    "        iid=False, # to avoid a DeprecationWarning\n",
    "        # fit_params={},\n",
    "    )\n",
    "\n",
    "    # Searching for best hyper-parameters, and saving in dict\n",
    "    bayes_search_dict[model] = bayes_search.fit(X_train, y_train)\n",
    "    \n",
    "    # Getting standard deviation for best_model scores\n",
    "    best_index = bayes_search.best_index_\n",
    "    std_score = bayes_search.cv_results_['std_test_score'][best_index]\n",
    "    \n",
    "    # Displays the parameters of the best model\n",
    "    print(\"Best parameters found for {}:\".format(model))\n",
    "    \n",
    "    # Getting parameters from param_grid\n",
    "    for parameter, _ in param_grid[0].items():\n",
    "        if parameter != 'regressor':\n",
    "            best_parameter = bayes_search.best_estimator_.get_params()[parameter]\n",
    "            parameter = parameter.split(\"regressor__\")[1]   \n",
    "            # Display best parameter\n",
    "            print(\"  - \" + parameter + \":\", best_parameter)\n",
    "    \n",
    "    # Getting the best score\n",
    "    print(\"Mean cross-validated score of the best estimator for {}: R² = {:.3f} ± {:.3f}\".format(model, bayes_search.best_score_, std_score))"
   ]
  },
  {
   "cell_type": "markdown",
   "metadata": {},
   "source": [
    "### Instanciations et entraînements des objets RandomizedSearchCV"
   ]
  },
  {
   "cell_type": "code",
   "execution_count": 22,
   "metadata": {},
   "outputs": [
    {
     "name": "stdout",
     "output_type": "stream",
     "text": [
      "\n",
      "Proceeding RandomizedSearchCV for ElasticNet…\n",
      "Best parameters found for ElasticNet:\n",
      "  - alpha: 0.1\n",
      "  - l1_ratio: 0.25\n",
      "Mean cross-validated score of the best estimator for ElasticNet: R² = 0.296 ± 0.065\n",
      "\n",
      "Proceeding RandomizedSearchCV for kSVM poly…\n",
      "Best parameters found for kSVM poly:\n",
      "  - kernel: poly\n",
      "  - C: 1\n",
      "  - coef0: 1\n",
      "  - degree: 2\n",
      "Mean cross-validated score of the best estimator for kSVM poly: R² = 0.274 ± 0.061\n",
      "\n",
      "Proceeding RandomizedSearchCV for kSVM linear…\n"
     ]
    },
    {
     "name": "stderr",
     "output_type": "stream",
     "text": [
      "C:\\Users\\Lebrun\\Anaconda3\\envs\\DS_projet4\\lib\\site-packages\\sklearn\\model_selection\\_search.py:266: UserWarning: The total space of parameters 7 is smaller than n_iter=10. Running 7 iterations. For exhaustive searches, use GridSearchCV.\n",
      "  % (grid_size, self.n_iter, grid_size), UserWarning)\n"
     ]
    },
    {
     "name": "stdout",
     "output_type": "stream",
     "text": [
      "Best parameters found for kSVM linear:\n",
      "  - kernel: linear\n",
      "  - C: 1\n",
      "Mean cross-validated score of the best estimator for kSVM linear: R² = 0.226 ± 0.051\n",
      "\n",
      "Proceeding RandomizedSearchCV for kSVM gaussian…\n",
      "Best parameters found for kSVM gaussian:\n",
      "  - kernel: rbf\n",
      "  - C: 10\n",
      "  - gamma: 0.1\n",
      "Mean cross-validated score of the best estimator for kSVM gaussian: R² = 0.304 ± 0.051\n",
      "\n",
      "Proceeding RandomizedSearchCV for kNN…\n",
      "Best parameters found for kNN:\n",
      "  - n_neighbors: 12\n",
      "  - weights: distance\n",
      "Mean cross-validated score of the best estimator for kNN: R² = 0.352 ± 0.058\n",
      "\n",
      "Proceeding RandomizedSearchCV for RandomForest…\n",
      "Best parameters found for RandomForest:\n",
      "  - n_estimators: 1000\n",
      "  - max_features: 2\n",
      "Mean cross-validated score of the best estimator for RandomForest: R² = 0.431 ± 0.074\n",
      "\n",
      "Proceeding RandomizedSearchCV for AdaBoost…\n",
      "Best parameters found for AdaBoost:\n",
      "  - n_estimators: 100\n",
      "  - learning_rate: 0.01\n",
      "  - loss: square\n",
      "Mean cross-validated score of the best estimator for AdaBoost: R² = 0.327 ± 0.065\n"
     ]
    }
   ],
   "source": [
    "# Load libraries\n",
    "from sklearn.model_selection import RandomizedSearchCV\n",
    "\n",
    "# Initialising the dict of results of RandomizedSearchCV\n",
    "CVsearch_dict = {}\n",
    "\n",
    "# Iterating over models and related parameters grids\n",
    "for model, param_grid in param_grids.items():\n",
    "    print(\"\\nProceeding RandomizedSearchCV for {}…\".format(model))\n",
    "    # Handle case where there are different dicts in param_grid (k-SVR…)\n",
    "    for param_grid_dict in param_grid:\n",
    "\n",
    "        # Intenciation of RandomizedSearchCV object\n",
    "        randomsearch = RandomizedSearchCV(\n",
    "            pipe, # use of the pipeline (preprocessing + model dummy)\n",
    "            param_distributions=param_grid_dict, # choice of hyper-parameters to test\n",
    "            scoring=scoring, # scoring method for regression\n",
    "            cv=cv_inner, # cross-validation generator\n",
    "            n_jobs=-1, # use all available cores (parallelization)\n",
    "            iid=False, # to avoid a DeprecationWarning\n",
    "        )\n",
    "\n",
    "        # Searching for best hyper-parameters, and saving in dict\n",
    "        CVsearch_dict[model] = randomsearch.fit(X_train, y_train)\n",
    "\n",
    "        # Getting standard deviation for best_model scores\n",
    "        best_index = randomsearch.best_index_\n",
    "        std_score = randomsearch.cv_results_['std_test_score'][best_index]\n",
    "\n",
    "        # Displays the parameters of the best model\n",
    "        print(\"Best parameters found for {}:\".format(model))\n",
    "\n",
    "        # Getting parameters from param_grid\n",
    "        for parameter, _ in param_grid_dict.items():\n",
    "            if parameter != 'regressor':\n",
    "                best_parameter = randomsearch.best_estimator_.get_params()[parameter]\n",
    "                parameter = parameter.split(\"regressor__\")[1]   \n",
    "                # Display best parameter\n",
    "                print(\"  - \" + parameter + \":\", best_parameter)\n",
    "\n",
    "        # Getting the best score\n",
    "        print(\"Mean cross-validated score of the best estimator for {}: R² = {:.3f} ± {:.3f}\".format(model, randomsearch.best_score_, std_score))"
   ]
  },
  {
   "cell_type": "markdown",
   "metadata": {},
   "source": [
    "### Instanciations et entraînements des objets GridSearchCV"
   ]
  },
  {
   "cell_type": "raw",
   "metadata": {},
   "source": [
    "# Load libraries\n",
    "from sklearn.model_selection import GridSearchCV\n",
    "\n",
    "# Initialising the dict of results of gridsearch\n",
    "gridsearch_dict = {}\n",
    "\n",
    "# Iterating over models and related parameters grids\n",
    "for model, param_grid in param_grids.items():\n",
    "    print(\"\\nProceeding GridSearchCV for {}…\".format(model))\n",
    "    \n",
    "    # Intenciation of GridSearchCV object\n",
    "    gridsearch = GridSearchCV(\n",
    "        pipe, # use of the pipeline (preprocessing + model dummy)\n",
    "        param_grid=param_grid, # choice of hyper-parameters to test\n",
    "        scoring=scoring, # scoring method for regression\n",
    "        cv=cv_inner, # cross-validation generator\n",
    "        n_jobs=-1, # use all available cores (parallelization)\n",
    "        iid=False, # to avoid a DeprecationWarning\n",
    "    )\n",
    "\n",
    "    # Searching for best hyper-parameters, and saving in dict\n",
    "    gridsearch_dict[model] = gridsearch.fit(X_train, y_train)\n",
    "    \n",
    "    # Getting standard deviation for best_model scores\n",
    "    best_index = gridsearch.best_index_\n",
    "    std_score = gridsearch.cv_results_['std_test_score'][best_index]\n",
    "    \n",
    "    # Displays the parameters of the best model\n",
    "    print(\"Best parameters found for {}:\".format(model))\n",
    "    \n",
    "    # Getting parameters from param_grid\n",
    "    for parameter, _ in param_grid[0].items():\n",
    "        if parameter != 'regressor':\n",
    "            best_parameter = gridsearch.best_estimator_.get_params()[parameter]\n",
    "            parameter = parameter.split(\"regressor__\")[1]   \n",
    "            # Display best parameter\n",
    "            print(\"  - \" + parameter + \":\", best_parameter)\n",
    "    \n",
    "    # Getting the best score\n",
    "    print(\"Mean cross-validated score of the best estimator for {}: R² = {:.3f} ± {:.3f}\".format(model, gridsearch.best_score_, std_score))"
   ]
  },
  {
   "cell_type": "markdown",
   "metadata": {},
   "source": [
    "### Visualisation de l'influence des hyper-paramètres"
   ]
  },
  {
   "cell_type": "code",
   "execution_count": 23,
   "metadata": {},
   "outputs": [],
   "source": [
    "# Iterating over models and related parameters grids\n",
    "for model, param_grid in param_grids.items():\n",
    "\n",
    "    # Getting parameters from param_grid\n",
    "    for parameter, _ in param_grid[0].items():\n",
    "        if parameter != 'regressor':\n",
    "            best_parameter = CVsearch_dict[model].best_estimator_.get_params()[parameter]\n",
    "            name_parameter = parameter.split(\"regressor__\")[1]   \n",
    "\n",
    "            # Getting the results of the CV as a pd.DataFrame\n",
    "            results_df = pd.DataFrame(CVsearch_dict[model].cv_results_)\n",
    "\n",
    "            # Selecting pertinent columns\n",
    "            results_df = results_df[[\n",
    "                \"param_\" + parameter, # values of parameter\n",
    "                'mean_test_score', # mean_test_score over splits\n",
    "                'std_test_score', # std_test_score over splits\n",
    "            ]]\n",
    "\n",
    "            # Calculating variances\n",
    "            results_df['var_test_score'] = results_df['std_test_score']**2\n",
    "\n",
    "            # \"Grouping by\" values of parameters\n",
    "            results_gb = results_df.groupby(by=\"param_\" + parameter)\n",
    "\n",
    "            # Aggregation over the group_by, taking the mean\n",
    "            results_agg = results_gb.agg('mean')\n",
    "\n",
    "            # Updating the std mean being square root of mean variance (and NOT mean of std…)\n",
    "            results_agg['std_test_score'] = np.sqrt(results_agg['var_test_score'])\n",
    "\n",
    "\n",
    "            import matplotlib.pyplot as plt\n",
    "\n",
    "            # Plotting with a bar plot\n",
    "            x = np.arange(len(results_agg)) # the label locations\n",
    "\n",
    "            fig, ax = plt.subplots(figsize=(8,3))\n",
    "\n",
    "            plt.plot(x, results_agg['mean_test_score'])\n",
    "\n",
    "            # Draw bands for standard deviation\n",
    "            plt.fill_between(x,\n",
    "                             results_agg['mean_test_score']-results_agg['std_test_score'],\n",
    "                             results_agg['mean_test_score']+results_agg['std_test_score'],\n",
    "                             color=\"#DDDDDD\",\n",
    "                            )\n",
    "\n",
    "            plt.title('\\nInfluence of the parameter {} ({})'.format(name_parameter, model), fontsize = 20)\n",
    "            plt.xlabel('Values'.format(name_parameter), fontsize = 15)\n",
    "            plt.ylabel('Scores R²', fontsize = 15)\n",
    "            \n",
    "            ax.set_ylim(ymax=1)\n",
    "\n",
    "            plt.xticks(x, results_agg.index)"
   ]
  },
  {
   "cell_type": "markdown",
   "metadata": {},
   "source": [
    "## **Sélection et évaluation finale du modèle**\n",
    "Nous évaluons le modèle sélectionné, avec les hyper-paramètres ajustés, sur le jeu de données de test."
   ]
  },
  {
   "cell_type": "markdown",
   "metadata": {},
   "source": [
    "### Comparaison des performances des modèles\n",
    "Nous comparons les performances sur les jeu d'entraînement, de validation et de le jeu de test pour chaque modèle."
   ]
  },
  {
   "cell_type": "code",
   "execution_count": 24,
   "metadata": {},
   "outputs": [
    {
     "data": {
      "text/html": [
       "<div>\n",
       "<style scoped>\n",
       "    .dataframe tbody tr th:only-of-type {\n",
       "        vertical-align: middle;\n",
       "    }\n",
       "\n",
       "    .dataframe tbody tr th {\n",
       "        vertical-align: top;\n",
       "    }\n",
       "\n",
       "    .dataframe thead th {\n",
       "        text-align: right;\n",
       "    }\n",
       "</style>\n",
       "<table border=\"1\" class=\"dataframe\">\n",
       "  <thead>\n",
       "    <tr style=\"text-align: right;\">\n",
       "      <th></th>\n",
       "      <th>mean_score_CV</th>\n",
       "      <th>std_score_CV</th>\n",
       "      <th>test_score</th>\n",
       "    </tr>\n",
       "  </thead>\n",
       "  <tbody>\n",
       "    <tr>\n",
       "      <th>ElasticNet</th>\n",
       "      <td>0.296496</td>\n",
       "      <td>0.0649976</td>\n",
       "      <td>0.314403</td>\n",
       "    </tr>\n",
       "    <tr>\n",
       "      <th>kSVM poly</th>\n",
       "      <td>0.273531</td>\n",
       "      <td>0.0614167</td>\n",
       "      <td>0.369003</td>\n",
       "    </tr>\n",
       "    <tr>\n",
       "      <th>kSVM linear</th>\n",
       "      <td>0.225657</td>\n",
       "      <td>0.0510128</td>\n",
       "      <td>0.291477</td>\n",
       "    </tr>\n",
       "    <tr>\n",
       "      <th>kSVM gaussian</th>\n",
       "      <td>0.303776</td>\n",
       "      <td>0.0508417</td>\n",
       "      <td>0.418538</td>\n",
       "    </tr>\n",
       "    <tr>\n",
       "      <th>kNN</th>\n",
       "      <td>0.35182</td>\n",
       "      <td>0.0578095</td>\n",
       "      <td>0.440806</td>\n",
       "    </tr>\n",
       "    <tr>\n",
       "      <th>RandomForest</th>\n",
       "      <td>0.431332</td>\n",
       "      <td>0.0740986</td>\n",
       "      <td>0.464107</td>\n",
       "    </tr>\n",
       "    <tr>\n",
       "      <th>AdaBoost</th>\n",
       "      <td>0.326729</td>\n",
       "      <td>0.0649812</td>\n",
       "      <td>0.329056</td>\n",
       "    </tr>\n",
       "  </tbody>\n",
       "</table>\n",
       "</div>"
      ],
      "text/plain": [
       "              mean_score_CV std_score_CV test_score\n",
       "ElasticNet         0.296496    0.0649976   0.314403\n",
       "kSVM poly          0.273531    0.0614167   0.369003\n",
       "kSVM linear        0.225657    0.0510128   0.291477\n",
       "kSVM gaussian      0.303776    0.0508417   0.418538\n",
       "kNN                 0.35182    0.0578095   0.440806\n",
       "RandomForest       0.431332    0.0740986   0.464107\n",
       "AdaBoost           0.326729    0.0649812   0.329056"
      ]
     },
     "execution_count": 24,
     "metadata": {},
     "output_type": "execute_result"
    }
   ],
   "source": [
    "# Initializing a Pandas.DataFrame for results\n",
    "results_df = pd.DataFrame(columns = ['mean_score_CV', 'std_score_CV', 'test_score'])\n",
    "\n",
    "# Getting result for best_estimator of each model\n",
    "for model, model_CVsearch in CVsearch_dict.items():\n",
    "    \n",
    "    # Creating a new row in the pd.DataFrame\n",
    "    results_df.loc[model] = [0, 0, 0]\n",
    "    \n",
    "    # Adding cross-validated score of best_estimator in the pd.DataFrame\n",
    "    mean_score_CV = model_CVsearch.best_score_\n",
    "    results_df.loc[model]['mean_score_CV'] = mean_score_CV\n",
    "    \n",
    "    # Adding cross-validated score standard deviation for best_estimators\n",
    "    std_score_CV = CVsearch_dict[model].cv_results_['std_test_score'][CVsearch_dict[model].best_index_]\n",
    "    results_df.loc[model]['std_score_CV'] = std_score_CV\n",
    "    \n",
    "    # Adding test score of best_estimator in the pd.DataFrame\n",
    "    score_test = model_CVsearch.best_estimator_.score(X_test, y_test)\n",
    "    results_df.loc[model]['test_score'] = score_test\n",
    "    \n",
    "results_df"
   ]
  },
  {
   "cell_type": "markdown",
   "metadata": {},
   "source": [
    "### Visualisation des performances des modèles"
   ]
  },
  {
   "cell_type": "code",
   "execution_count": 25,
   "metadata": {},
   "outputs": [
    {
     "data": {
      "image/png": "[encoded data removed]",
      "text/plain": [
       "<Figure size 864x360 with 1 Axes>"
      ]
     },
     "metadata": {
      "needs_background": "light"
     },
     "output_type": "display_data"
    }
   ],
   "source": [
    "import matplotlib.pyplot as plt\n",
    "\n",
    "# Plotting with a bar plot\n",
    "x = np.arange(len(results_df))  # the label locations\n",
    "width = 0.35  # the width of the bars\n",
    "\n",
    "fig, ax = plt.subplots(figsize=(12,5))\n",
    "rects1 = ax.bar(x - width/2, results_df['mean_score_CV'], width, yerr=results_df['std_score_CV'], label='Mean score CV')\n",
    "rects2 = ax.bar(x + width/2, results_df['test_score'], width, label='Test score')\n",
    "\n",
    "plt.title('Scores of best estimators\\n', fontsize = 20)\n",
    "plt.xlabel('\\nModels', fontsize = 15)\n",
    "plt.ylabel('Scores R²', fontsize = 15)\n",
    "\n",
    "ax.set_ylim(ymax=1)\n",
    "\n",
    "plt.xticks(x, results_df.index)\n",
    "ax.legend();"
   ]
  },
  {
   "cell_type": "markdown",
   "metadata": {},
   "source": [
    "### Récupération du modèle final (pipeline : pré-traitement + régresseur)"
   ]
  },
  {
   "cell_type": "code",
   "execution_count": 26,
   "metadata": {},
   "outputs": [
    {
     "name": "stdout",
     "output_type": "stream",
     "text": [
      "The overall best cross-validated score is : R² = 0.431\n",
      "The best model is RandomForest with parameters: \n",
      "  - n_estimators: 1000\n",
      "  - max_features: 2\n"
     ]
    }
   ],
   "source": [
    "# Initializing best scor\n",
    "best_score = 0\n",
    "\n",
    "# Iterating over models\n",
    "for model, model_CVsearch in CVsearch_dict.items():\n",
    "    \n",
    "    # Selecting model with best score\n",
    "    if model_CVsearch.best_score_ > best_score:\n",
    "        # Updating best_score and best_model\n",
    "        best_model_name = model\n",
    "        best_score = model_CVsearch.best_score_\n",
    "        best_model = model_CVsearch.best_estimator_\n",
    "\n",
    "# Display results\n",
    "print(\"The overall best cross-validated score is : R² = {:.3f}\".format(best_score))\n",
    "print(\"The best model is {} with parameters: \".format(best_model_name))\n",
    "\n",
    "# Getting parameters from param_grid\n",
    "for parameter, _ in param_grids[best_model_name][0].items():\n",
    "    if parameter != 'regressor':\n",
    "        best_parameter = best_model.get_params()[parameter]\n",
    "        \n",
    "        # Display best parameter\n",
    "        parameter = parameter.split(\"regressor__\")[1]\n",
    "        print(\"  - \" + parameter + \":\", best_parameter)\n"
   ]
  },
  {
   "cell_type": "markdown",
   "metadata": {},
   "source": [
    "### Évaluation finale sur le jeu de test"
   ]
  },
  {
   "cell_type": "code",
   "execution_count": 27,
   "metadata": {},
   "outputs": [
    {
     "name": "stdout",
     "output_type": "stream",
     "text": [
      "Score of the best model (RandomForest) on the train set: R² = 0.924\n",
      "Score of the best model (RandomForest) on the test set: R² = 0.464\n"
     ]
    }
   ],
   "source": [
    "score_train = best_model.score(X_train, y_train)\n",
    "print(\"Score of the best model ({}) on the train set: R² = {:.3f}\".format(best_model_name, score_train))\n",
    "\n",
    "score_test = best_model.score(X_test, y_test)\n",
    "print(\"Score of the best model ({}) on the test set: R² = {:.3f}\".format(best_model_name, score_test))"
   ]
  },
  {
   "cell_type": "markdown",
   "metadata": {},
   "source": [
    "## **Hybridation des modèles**"
   ]
  },
  {
   "cell_type": "markdown",
   "metadata": {},
   "source": [
    "### Définition de l'estimateur hybride"
   ]
  },
  {
   "cell_type": "code",
   "execution_count": 69,
   "metadata": {},
   "outputs": [],
   "source": [
    "from sklearn.base import BaseEstimator, RegressorMixin\n",
    "\n",
    "# Defining our hybrid regressor\n",
    "class HybridRegressor(BaseEstimator, RegressorMixin):\n",
    "    \"\"\"Custom regressor which predict the mean of predictions by other regressors.\"\"\"\n",
    "    \n",
    "    def __init__(self, list_models, strategy=None):\n",
    "        self.hybrided_models = list_models\n",
    "        self.strategy = 'mean'\n",
    "        \n",
    "        # set strategy if specified\n",
    "        if strategy is not None:\n",
    "            self.strategy = strategy\n",
    "    \n",
    "    def fit(self, X, y):\n",
    "        for model in self.hybrided_models:\n",
    "            # Should check if self.hybrided_models is modified\n",
    "            model.fit(X, y)  \n",
    "        return self\n",
    "    \n",
    "    def predict(self, X):\n",
    "        # initialisation\n",
    "        predictions = np.zeros((len(self.hybrided_models), len(X)))\n",
    "        \n",
    "        # computing prediction for all models\n",
    "        for index, model in enumerate(self.hybrided_models):\n",
    "            predictions[index] = model.predict(X)\n",
    "        \n",
    "        if self.strategy == 'mean':      \n",
    "            # computing the mean of predictions\n",
    "            y_predicted = np.mean(predictions,axis=0) \n",
    "        \n",
    "        if self.strategy == 'median':\n",
    "            # computing median of predictions\n",
    "            y_predicted = np.median(predictions,axis=0)\n",
    "        \n",
    "        return y_predicted"
   ]
  },
  {
   "cell_type": "code",
   "execution_count": 70,
   "metadata": {},
   "outputs": [],
   "source": [
    "# Initialising the list of models to hybrid\n",
    "bestmodels_list = []\n",
    "\n",
    "# Iteration over models with fitted hyper-parameters\n",
    "for model, _ in param_grids.items():\n",
    "    # Adding best model for each algorithm to the list\n",
    "    bestmodels_list.append(CVsearch_dict[model].best_estimator_)\n",
    "    \n",
    "# Defining HybridRegressor from our list of models\n",
    "hybrid_model = HybridRegressor(bestmodels_list)"
   ]
  },
  {
   "cell_type": "code",
   "execution_count": 71,
   "metadata": {},
   "outputs": [
    {
     "name": "stdout",
     "output_type": "stream",
     "text": [
      "Score of the hybrid model on the train set: R² = 0.490\n",
      "Score of the hybrid model on the test set: R² = 0.463\n"
     ]
    }
   ],
   "source": [
    "# Compute the R²-score on the train set\n",
    "score_train = hybrid_model.score(X_train, y_train)\n",
    "print(\"Score of the hybrid model on the train set: R² = {:.3f}\".format(score_train))\n",
    "\n",
    "# Compute the R²-score on the test set\n",
    "score_test = hybrid_model.score(X_test, y_test)\n",
    "print(\"Score of the hybrid model on the test set: R² = {:.3f}\".format(score_test))"
   ]
  },
  {
   "cell_type": "markdown",
   "metadata": {},
   "source": [
    "### Optimisation de l'hybridation\n",
    "Avec *n* modèles à hybrider, le nombre d'hybridations possible est :\n",
    "\n",
    "$$ N = \\sum\\limits_{k=1}^n C_n^k = \\sum\\limits_{k=1}^n \\frac{n!}{k! (n-k)!}$$\n",
    "\n",
    "Pour n = 5, nous avons déjà 31 hybridations possibles. Plutôt qu'une recherche exhaustive, nous souhaitons déterminer le meilleur modèle hybride possible grâce à une heuristique. Pour cela, nous implémentons un algorithme *forward-backward* descendant."
   ]
  },
  {
   "cell_type": "markdown",
   "metadata": {},
   "source": [
    "#### Séparation d'un jeu de validation (ou de développement) à partir du jeu de test"
   ]
  },
  {
   "cell_type": "code",
   "execution_count": 31,
   "metadata": {},
   "outputs": [],
   "source": [
    "# Splitting the test set in validation set and test set\n",
    "SIZE = int(len(X_test)/2)\n",
    "\n",
    "X_valid = X_test[:SIZE]\n",
    "y_valid = y_test[:SIZE]\n",
    "\n",
    "X_test = X_test[SIZE:]\n",
    "y_test = y_test[SIZE:]"
   ]
  },
  {
   "cell_type": "code",
   "execution_count": 72,
   "metadata": {},
   "outputs": [
    {
     "name": "stdout",
     "output_type": "stream",
     "text": [
      "Initial score (on validation set) : R² = 0.356\n",
      "\n",
      "Iteration n°1\n",
      "Trying to substract a model.\n",
      "Removing model :\n",
      "SVR(C=1, cache_size=200, coef0=0.0, degree=3, epsilon=0.1,\n",
      "    gamma='auto_deprecated', kernel='linear', max_iter=-1, shrinking=True,\n",
      "    tol=0.001, verbose=False)\n",
      "New score (on validation set) : R² = 0.358\n",
      "\n",
      "Iteration n°2\n",
      "Trying to substract a model.\n",
      "Removing model :\n",
      "AdaBoostRegressor(base_estimator=None, learning_rate=0.01, loss='square',\n",
      "                  n_estimators=100, random_state=181)\n",
      "New score (on validation set) : R² = 0.372\n",
      "\n",
      "Iteration n°3\n",
      "Trying to substract a model.\n",
      "No model substracted to the hybrid.\n",
      "Trying to add a model.\n",
      "No model added to the hybrid.\n",
      "\n",
      "Optimization completed.\n",
      "List of models in the final hybrid :\n",
      "   - ElasticNet(alpha=0.1, copy_X=True, fit_intercept=True, l1_ratio=0.25,\n",
      "           max_iter=1000, normalize=False, positive=False, precompute=False,\n",
      "           random_state=None, selection='cyclic', tol=0.0001, warm_start=False)\n",
      "   - SVR(C=1, cache_size=200, coef0=1, degree=2, epsilon=0.1,\n",
      "    gamma='auto_deprecated', kernel='poly', max_iter=-1, shrinking=True,\n",
      "    tol=0.001, verbose=False)\n",
      "   - SVR(C=10, cache_size=200, coef0=0.0, degree=3, epsilon=0.1, gamma=0.1,\n",
      "    kernel='rbf', max_iter=-1, shrinking=True, tol=0.001, verbose=False)\n",
      "   - KNeighborsRegressor(algorithm='auto', leaf_size=30, metric='minkowski',\n",
      "                    metric_params=None, n_jobs=-1, n_neighbors=12, p=2,\n",
      "                    weights='distance')\n",
      "   - RandomForestRegressor(bootstrap=True, criterion='mse', max_depth=None,\n",
      "                      max_features=2, max_leaf_nodes=None,\n",
      "                      min_impurity_decrease=0.0, min_impurity_split=None,\n",
      "                      min_samples_leaf=1, min_samples_split=2,\n",
      "                      min_weight_fraction_leaf=0.0, n_estimators=1000,\n",
      "                      n_jobs=-1, oob_score=False, random_state=181, verbose=0,\n",
      "                      warm_start=False)\n",
      "Final score (on validation set) : R² = 0.372\n"
     ]
    }
   ],
   "source": [
    "# To convert as a function\n",
    "# Optimisation : performance optimisation by caching results\n",
    "\n",
    "list_models = bestmodels_list[:]\n",
    "\n",
    "# Initialization by full hybrid\n",
    "models_in = list_models[:]\n",
    "models_out = []\n",
    "hybrid_model = HybridRegressor(models_in, strategy='median')\n",
    "best_score = hybrid_model.score(X_valid, y_valid)\n",
    "iteration = 0\n",
    "print(\"Initial score (on validation set) : R² = {:.3f}\".format(best_score))\n",
    "\n",
    "while True:\n",
    "    model_to_add = []\n",
    "    model_to_drop = []\n",
    "    iteration = iteration + 1\n",
    "    print(\"\\nIteration n°{}\".format(iteration))\n",
    "    \n",
    "    # Testing if current hybrid model contains at least two models\n",
    "    if len(models_in)>=2:\n",
    "        \n",
    "########## Testing substraction of a model\n",
    "        print(\"Trying to substract a model.\")\n",
    "        # Iteration on models in the current hybrid model\n",
    "        for model in models_in:\n",
    "            # Copy the list of models in the hybrid model\n",
    "            models_to_test = models_in[:]\n",
    "            # Remove a model from the list\n",
    "            models_to_test.remove(model)\n",
    "            # Instanciate a new hybrid model\n",
    "            hybrid_model = HybridRegressor(models_to_test, strategy='median')\n",
    "            # Evaluate the new hybrid model\n",
    "            score = hybrid_model.score(X_valid, y_valid)\n",
    "            # It the new hybrid model is better than previous one\n",
    "            if score > best_score:\n",
    "                best_score = score\n",
    "                model_to_drop = model\n",
    "                \n",
    "        # If a new hybrid was better by removing a model\n",
    "        if model_to_drop:\n",
    "            models_in.remove(model_to_drop)\n",
    "            print(\"Removing model :\\n{}\".format(model_to_drop.get_params()['regressor']))\n",
    "            models_out.append(model_to_drop)\n",
    "            print(\"New score (on validation set) : R² = {:.3f}\".format(best_score))\n",
    "            continue\n",
    "        \n",
    "        # Else\n",
    "        print(\"No model substracted to the hybrid.\")\n",
    "    \n",
    "    # Testing if hybrid is already \"full\"\n",
    "    if len(models_in)!=len(list_models):\n",
    "\n",
    "########## Testing addition of a model\n",
    "        print(\"Trying to add a model.\")\n",
    "        # Iteration on models out of the current hybrid model\n",
    "        for model in models_out:\n",
    "            # Copy the list of models in the hybrid model\n",
    "            models_to_test = models_in[:]\n",
    "            # Add a model to the list\n",
    "            models_to_test.append(model)\n",
    "            # Instanciate a new hybrid model\n",
    "            hybrid_model = HybridRegressor(models_to_test, strategy='median')\n",
    "            # Evaluate the new hybrid model\n",
    "            score = hybrid_model.score(X_valid, y_valid)\n",
    "            # print(\"Score by trying to add {} : {}\".format(model.get_params()['regressor'], score))\n",
    "            # It the new hybrid model is better than previous one\n",
    "            if score > best_score:\n",
    "                best_score = score\n",
    "                model_to_add = model\n",
    "\n",
    "        # If a new hybrid was better by adding a model\n",
    "        if model_to_add:\n",
    "            models_in.append(model_to_add)\n",
    "            print(\"Adding model to the hybrid:\\n{}\".format(model_to_add.get_params()['regressor']))\n",
    "            models_out.remove(model_to_add)\n",
    "            print(\"New score (on validation set) : R² = {:.3f}\".format(best_score))\n",
    "            continue\n",
    "            \n",
    "        # Else\n",
    "        print(\"No model added to the hybrid.\")\n",
    "        \n",
    "        # If no better hybrid was found by removing nor adding a model\n",
    "        print(\"\\nOptimization completed.\")\n",
    "        print(\"List of models in the final hybrid :\")\n",
    "        for model in models_in:\n",
    "            print(\"   - {}\".format(model.get_params()['regressor']))\n",
    "            \n",
    "    # Instanciate best hybrid model and evaluate it\n",
    "    final_model = HybridRegressor(models_in, strategy='median')\n",
    "    best_score = final_model.score(X_valid, y_valid)\n",
    "    print(\"Final score (on validation set) : R² = {:.3f}\".format(best_score))\n",
    "        \n",
    "    break"
   ]
  },
  {
   "cell_type": "code",
   "execution_count": 33,
   "metadata": {},
   "outputs": [
    {
     "name": "stdout",
     "output_type": "stream",
     "text": [
      "Score of the best hybrid model on the train set: R² = 0.881\n",
      "Score of the best hybrid model on the test set: R² = 0.527\n"
     ]
    }
   ],
   "source": [
    "# Compute the R²-score on the train set\n",
    "score_train = final_model.score(X_train, y_train)\n",
    "print(\"Score of the best hybrid model on the train set: R² = {:.3f}\".format(score_train))\n",
    "\n",
    "# Compute the R²-score on the test set\n",
    "score_test = final_model.score(X_test, y_test)\n",
    "print(\"Score of the best hybrid model on the test set: R² = {:.3f}\".format(score_test))"
   ]
  },
  {
   "cell_type": "markdown",
   "metadata": {},
   "source": [
    "Le nouveau modèle semble obtenir des résultats légèrement plus élevés que le modèle hybride complet, mais semble aussi souffrir de **sur-apprentissage**, car nous constatons un écart important entre les résultats sur le jeu d'entraînement et ceux sur le jeu de test."
   ]
  },
  {
   "cell_type": "markdown",
   "metadata": {},
   "source": [
    "### Comparaison des prédictions et des valeurs réelles (sur le jeu de test)"
   ]
  },
  {
   "cell_type": "markdown",
   "metadata": {},
   "source": [
    "À convertir en fonction"
   ]
  },
  {
   "cell_type": "code",
   "execution_count": 34,
   "metadata": {},
   "outputs": [
    {
     "data": {
      "image/png": "[encoded data removed]",
      "text/plain": [
       "<Figure size 1440x720 with 1 Axes>"
      ]
     },
     "metadata": {
      "needs_background": "light"
     },
     "output_type": "display_data"
    }
   ],
   "source": [
    "import matplotlib.pyplot as plt\n",
    "\n",
    "# Defining the real values for target feature\n",
    "y_real = y_test\n",
    "\n",
    "# Calculating predictions on testing set\n",
    "y_predicted = final_model.predict(X_test)\n",
    "\n",
    "# Setting parameters of the plot\n",
    "fig = plt.figure(figsize=(20, 10))\n",
    "plt.title('Real values versus Predictions ({})'.format(target_feature), fontsize=20)\n",
    "plt.xlabel('Real values', fontsize=15)\n",
    "plt.ylabel('Predicted values', fontsize=15)\n",
    "\n",
    "# Plotting the scatter plot\n",
    "plt.scatter(y_real, y_predicted)\n",
    "\n",
    "# Plotting the x=y line\n",
    "plot = plt.plot(y_real, y_real, color='red')"
   ]
  },
  {
   "cell_type": "markdown",
   "metadata": {},
   "source": [
    "Nous constatons que notre modèle est à la peine avec les **valeurs hors-normes** qui sont mal évaluées. Nous allons regarder si l'élimination de ces valeurs hors-normes dans le jeu d'entraînement permet d'améliorer les performances de notre modèle."
   ]
  },
  {
   "cell_type": "markdown",
   "metadata": {},
   "source": [
    "## **Impact des valeurs hors-normes** (\"*outliers*\")\n",
    "Nous allons tester si le modèle est plus performant lorsque l'on élimine les valeurs hors-normes du jeu d'entraînement."
   ]
  },
  {
   "cell_type": "markdown",
   "metadata": {},
   "source": [
    "### Détection des valeurs hors-normes\n",
    "Nous utilisons la méthode de l'intervalle inter-quartile."
   ]
  },
  {
   "cell_type": "markdown",
   "metadata": {},
   "source": [
    "À convertir en fonction"
   ]
  },
  {
   "cell_type": "code",
   "execution_count": 35,
   "metadata": {},
   "outputs": [
    {
     "name": "stdout",
     "output_type": "stream",
     "text": [
      "Number of detected outliers: 118\n"
     ]
    }
   ],
   "source": [
    "# Setting parameters\n",
    "series = y_train\n",
    "\n",
    "# Computing first and third quartiles and inter-quartile range\n",
    "Q1 = series.quantile(q=0.25, interpolation='linear')   # first quartile\n",
    "Q3 = series.quantile(q=0.75, interpolation='linear')   # third quartile\n",
    "IQR = Q3 - Q1\n",
    "\n",
    "# definition of mask\n",
    "mask = (series < Q1 - 1.5*IQR) | (series > Q3 + 1.5*IQR)\n",
    "\n",
    "# Calling the function to get the outliers\n",
    "outliers = series[mask]\n",
    "\n",
    "# Displays number of outliers\n",
    "print(\"Number of detected outliers:\", len(outliers))"
   ]
  },
  {
   "cell_type": "markdown",
   "metadata": {},
   "source": [
    "### Suppression des valeurs hors-norme du jeu d'entraînement"
   ]
  },
  {
   "cell_type": "code",
   "execution_count": 36,
   "metadata": {},
   "outputs": [],
   "source": [
    "# Drop outiers from X_train and y_train\n",
    "X_train_without_outliers = X_train[~mask]\n",
    "y_train_without_outliers = y_train[~mask]"
   ]
  },
  {
   "cell_type": "markdown",
   "metadata": {},
   "source": [
    "### Ré-entraînement du modèle"
   ]
  },
  {
   "cell_type": "code",
   "execution_count": 37,
   "metadata": {},
   "outputs": [],
   "source": [
    "# Training the \"final pipeline\" on the data without outliers\n",
    "final_model.fit(X_train_without_outliers, y_train_without_outliers);"
   ]
  },
  {
   "cell_type": "markdown",
   "metadata": {},
   "source": [
    "### Ré-évaluation du modèle sans les valeurs hors-normes (\"*outliers*\")"
   ]
  },
  {
   "cell_type": "code",
   "execution_count": 38,
   "metadata": {},
   "outputs": [
    {
     "name": "stdout",
     "output_type": "stream",
     "text": [
      "Score of the final model (trained without outliers) on the train set: R² = 0.870\n",
      "Score of the final model (trained without outliers) on the test set: R² = 0.437\n"
     ]
    }
   ],
   "source": [
    "# Compute the R²-score on the train set\n",
    "score_train = final_model.score(X_train_without_outliers, y_train_without_outliers)\n",
    "print(\"Score of the final model (trained without outliers) on the train set: R² = {:.3f}\".format(score_train))\n",
    "\n",
    "# Compute the R²-score on the test set\n",
    "score_test = final_model.score(X_test, y_test)\n",
    "print(\"Score of the final model (trained without outliers) on the test set: R² = {:.3f}\".format(score_test))"
   ]
  },
  {
   "cell_type": "markdown",
   "metadata": {},
   "source": [
    "Nous constatons que l'élimination des valeurs hors-normes du jeu d'entraînement ne **permet pas d'améliorer les performances du modèle**. Au contraire, le modèle ne pouvant plus apprendre de ces valeurs, il est encore moins performant pour effectuer des prédictions sur le jeu de test."
   ]
  },
  {
   "cell_type": "markdown",
   "metadata": {},
   "source": [
    "## **Effets de la taille du jeu de données d'entraînement**\n",
    "Nous étudions l'impact de la taille du jeu de données d'entraînement pour déterminer si notre modèle gagnerait en exactitude à être entraîné sur un nombre plus important de données. Autrement dit : la ville de Seattle pourrait-elle déjà utiliser le modèle, ou devrait-elle continuer à collecter des données ?\n",
    "\n",
    "Pour obtenir les résultats les plus fiables possibles, et estimer la variance de nos résultats, nous allons utiliser une **validation croisée**."
   ]
  },
  {
   "cell_type": "markdown",
   "metadata": {},
   "source": [
    "### Définition du générateur de validation croisée"
   ]
  },
  {
   "cell_type": "code",
   "execution_count": 39,
   "metadata": {},
   "outputs": [],
   "source": [
    "from sklearn.model_selection import KFold\n",
    "\n",
    "# Define the cross-validation generator\n",
    "cv_learning = KFold(\n",
    "    n_splits=10, # number of folds (default=5)\n",
    "    shuffle=True, # shuffle the data before splitting into batche\n",
    "    random_state=seed, # seeding the random number generator for shuffling\n",
    ")"
   ]
  },
  {
   "cell_type": "markdown",
   "metadata": {},
   "source": [
    "### Évaluation du modèle sur des jeux d'entraînement de taille croissante"
   ]
  },
  {
   "cell_type": "code",
   "execution_count": 40,
   "metadata": {},
   "outputs": [],
   "source": [
    "from sklearn.model_selection import learning_curve\n",
    "\n",
    "# Create CV training and test scores for various training test sizes\n",
    "train_sizes, train_scores, test_scores = learning_curve(\n",
    "    best_model, # estimator\n",
    "    X, # features\n",
    "    y, # target\n",
    "    cv=cv_learning, # cross-validation generator\n",
    "    scoring='r2', # performance metric\n",
    "    n_jobs=-1, # use all computer cores\n",
    "    train_sizes=np.linspace(0.01, 0.99, 50), # 50 training sets\n",
    ")"
   ]
  },
  {
   "cell_type": "markdown",
   "metadata": {},
   "source": [
    "### Calcul des moyennes et écarts-types"
   ]
  },
  {
   "cell_type": "code",
   "execution_count": 41,
   "metadata": {},
   "outputs": [],
   "source": [
    "# Create means and standard deviations of training set scores\n",
    "train_mean = np.mean(train_scores, axis=1)\n",
    "train_std = np.std(train_scores, axis=1)\n",
    "\n",
    "# Create means and standard deviations of test set scores\n",
    "test_mean = np.mean(test_scores, axis=1)\n",
    "test_std = np.std(test_scores, axis=1)"
   ]
  },
  {
   "cell_type": "markdown",
   "metadata": {},
   "source": [
    "### Courbe d'apprentissage"
   ]
  },
  {
   "cell_type": "code",
   "execution_count": 42,
   "metadata": {},
   "outputs": [],
   "source": [
    "# We change negative values to zero to avoid crushing the graph\n",
    "train_mean = [0 if score < 0 else score for score in train_mean]\n",
    "test_mean = [0 if score < 0 else score for score in test_mean]"
   ]
  },
  {
   "cell_type": "code",
   "execution_count": 43,
   "metadata": {},
   "outputs": [
    {
     "data": {
      "image/png": "[encoded data removed]",
      "text/plain": [
       "<Figure size 1296x576 with 1 Axes>"
      ]
     },
     "metadata": {},
     "output_type": "display_data"
    }
   ],
   "source": [
    "# Loading libraries\n",
    "import matplotlib.pyplot as plt\n",
    "import matplotlib.ticker as ticker\n",
    "import seaborn as sns\n",
    "sns.set()\n",
    "\n",
    "# Setting main properties\n",
    "fig, ax = plt.subplots(figsize=(18, 8))\n",
    "plt.title(\"Learning curve\", fontsize=30)\n",
    "plt.xlabel(\"Size of the training set\", fontsize=20)\n",
    "plt.ylabel(\"Performance (R²-score)\", fontsize=20)\n",
    "ax.set_ylim(ymax=1)\n",
    "\n",
    "# Draw bands (for standard deviation)\n",
    "plt.fill_between(train_sizes, train_mean - train_std, train_mean + train_std, color=\"#DDDDDD\")\n",
    "plt.fill_between(train_sizes, test_mean - test_std, test_mean + test_std, color=\"#DDDDDD\")\n",
    "\n",
    "# Graphing the plot\n",
    "ax.plot(train_sizes, train_mean, label='Training score')\n",
    "ax.plot(train_sizes, test_mean, label='CV score')\n",
    "plt.legend(loc='best', fontsize=15);"
   ]
  },
  {
   "cell_type": "markdown",
   "metadata": {},
   "source": [
    "## **Importance des caractéristiques**\n",
    "Les modèles que nous avons étudiés, et qui composent notre estimateur hybride, ne permettent pas tous d'inspecter l'importance relative des features, mais certains le peuvent."
   ]
  },
  {
   "cell_type": "markdown",
   "metadata": {},
   "source": [
    "### Importance des caractéristiques : ElasticNet"
   ]
  },
  {
   "cell_type": "code",
   "execution_count": 44,
   "metadata": {},
   "outputs": [
    {
     "data": {
      "image/png": "[encoded data removed]",
      "text/plain": [
       "<Figure size 1440x720 with 1 Axes>"
      ]
     },
     "metadata": {},
     "output_type": "display_data"
    }
   ],
   "source": [
    "# Features importance for linear model (ElasticNet)\n",
    "features_coeff = CVsearch_dict['ElasticNet'].best_estimator_.get_params()['regressor'].coef_\n",
    "\n",
    "# Getting name of features\n",
    "features_names = list(X)\n",
    "\n",
    "# Creating a Pandas Series\n",
    "features_importance = pd.Series(features_coeff, features_names)\n",
    "\n",
    "# Sorting the pd.Series in descending order\n",
    "features_importance = features_importance.sort_values(ascending=False)\n",
    "\n",
    "# Plotting a barplot using the pandas.plot method\n",
    "plot = features_importance.plot(kind=\"bar\", figsize=(20,10))\n",
    "\n",
    "# Setting title for the plot\n",
    "import pylab as pl\n",
    "pl.suptitle(\"Features coefficients (ElasticNet)\", fontsize=30);"
   ]
  },
  {
   "cell_type": "code",
   "execution_count": 45,
   "metadata": {},
   "outputs": [
    {
     "data": {
      "image/png": "[encoded data removed]",
      "text/plain": [
       "<Figure size 1440x720 with 1 Axes>"
      ]
     },
     "metadata": {},
     "output_type": "display_data"
    }
   ],
   "source": [
    "import matplotlib.ticker as ticker\n",
    "import seaborn as sns\n",
    "sns.set()\n",
    "\n",
    "# Calculating absolute value for each coefficient\n",
    "abs_coeffs = list(map(abs, features_coeff))\n",
    "\n",
    "# Getting the list of features with negative coefficients\n",
    "mask = features_coeff < 0\n",
    "neg_features = [feature_name for (feature_name, mask_value) in zip(features_names, mask) if mask_value == True]\n",
    "\n",
    "# Summing the absolute values of coefficients\n",
    "from functools import reduce\n",
    "sum_coeffs = reduce((lambda x, y: x + y), abs_coeffs, 0)\n",
    "\n",
    "# Computing relative importance\n",
    "relative_coeffs = abs_coeffs/sum_coeffs\n",
    "\n",
    "# Creating lists of tuples (feature, relative coefficient)\n",
    "list_features_coeff = []\n",
    "for feature_name, relative_coeff in zip(features_names, relative_coeffs):\n",
    "    list_features_coeff.append((feature_name, relative_coeff))\n",
    "    \n",
    "# Sorting the list by coefficient, in reversed order (descending)\n",
    "list_features_coeff.sort(key=lambda tup: tup[1], reverse=True)\n",
    "\n",
    "# Getting ordered list of features and relative coefficients\n",
    "features_names = [tup[0] for tup in list_features_coeff]\n",
    "features_coeff = [tup[1] for tup in list_features_coeff]\n",
    "\n",
    "# Getting the index of features with negative coefficients\n",
    "neg_features_index_list = [index for (index, tup) in enumerate(list_features_coeff) if tup[0] in neg_features]\n",
    "\n",
    "# Plotting a barplot for the coefficients of features\n",
    "fig, ax = plt.subplots(figsize=(20, 10))\n",
    "plt.xticks(range(len(features_coeff)), features_names, rotation='vertical', fontsize=15)\n",
    "plt.title(\"Relative importance of features (ElasticNet)\", fontsize=25)\n",
    "plt.xlabel(\"Features\", fontsize=20)\n",
    "plt.ylabel(\"Coefficients\", fontsize=20)\n",
    "ax.yaxis.set_major_formatter(ticker.PercentFormatter(xmax=1.0))\n",
    "barlist= plt.bar(range(len(features_coeff)),features_coeff)\n",
    "\n",
    "# Set red color bar for features with negative coefficients\n",
    "for index in neg_features_index_list:\n",
    "    barlist[index].set_color('r')"
   ]
  },
  {
   "cell_type": "markdown",
   "metadata": {},
   "source": [
    "### Importance des caractéristiques : Forêt Aléatoire"
   ]
  },
  {
   "cell_type": "code",
   "execution_count": 46,
   "metadata": {},
   "outputs": [
    {
     "data": {
      "image/png": "[encoded data removed]",
      "text/plain": [
       "<Figure size 1440x720 with 1 Axes>"
      ]
     },
     "metadata": {},
     "output_type": "display_data"
    }
   ],
   "source": [
    "import matplotlib.ticker as ticker\n",
    "\n",
    "# Features importance for linear model (ElasticNet)\n",
    "features_importances = CVsearch_dict['RandomForest'].best_estimator_.get_params()['regressor'].feature_importances_\n",
    "\n",
    "# Getting name of features\n",
    "features_names = list(X)\n",
    "\n",
    "# Creating a Pandas Series\n",
    "features_importance = pd.Series(features_importances, features_names)\n",
    "\n",
    "# Sorting the pd.Series in descending order\n",
    "features_importance = features_importance.sort_values(ascending=False)\n",
    "\n",
    "# Plotting a barplot using the pandas.plot method\n",
    "plot = features_importance.plot(kind=\"bar\", figsize=(20,10))\n",
    "\n",
    "# Setting title for the plot\n",
    "import pylab as pl\n",
    "pl.suptitle(\"Features importance (Random Forest)\", fontsize=30);"
   ]
  },
  {
   "cell_type": "markdown",
   "metadata": {},
   "source": [
    "### Importance des caractéristiques : AdaBoost"
   ]
  },
  {
   "cell_type": "code",
   "execution_count": 47,
   "metadata": {},
   "outputs": [
    {
     "data": {
      "image/png": "[encoded data removed]",
      "text/plain": [
       "<Figure size 1440x720 with 1 Axes>"
      ]
     },
     "metadata": {},
     "output_type": "display_data"
    }
   ],
   "source": [
    "# Features importance for linear model (ElasticNet)\n",
    "features_importances = CVsearch_dict['AdaBoost'].best_estimator_.get_params()['regressor'].feature_importances_\n",
    "\n",
    "# Getting name of features\n",
    "features_names = list(X)\n",
    "\n",
    "# Creating a Pandas Series\n",
    "features_importance = pd.Series(features_importances, features_names)\n",
    "\n",
    "# Sorting the pd.Series in descending order\n",
    "features_importance = features_importance.sort_values(ascending=False)\n",
    "\n",
    "# Plotting a barplot using the pandas.plot method\n",
    "plot = features_importance.plot(kind=\"bar\", figsize=(20,10))\n",
    "\n",
    "# Setting title for the plot\n",
    "import pylab as pl\n",
    "pl.suptitle(\"Features importance (AdaBoost)\", fontsize=30);"
   ]
  },
  {
   "cell_type": "markdown",
   "metadata": {},
   "source": [
    "## Intérêt de la variable **'ENERGY STAR Score'**\n",
    "\n",
    "Nous cherchons en particulier à évaluer l'intérêt de l’'ENERGY STAR Score' ([www.energystar.gov](https://www.energystar.gov/buildings/facility-owners-and-managers/existing-buildings/use-portfolio-manager/interpret-your-results/what)) pour la prédiction d’émissions, qui est fastidieux à calculer avec l’approche utilisée actuellement par l'équipe.\n",
    "* 'ENERGYSTARScore' : An EPA calculated 1-100 rating that assesses a property’s overall energy performance, based on national data to control for differences among climate, building uses, and operations. A score of 50 represents the national median."
   ]
  },
  {
   "cell_type": "code",
   "execution_count": 48,
   "metadata": {},
   "outputs": [
    {
     "data": {
      "image/png": "[encoded data removed]",
      "text/plain": [
       "<Figure size 432x432 with 1 Axes>"
      ]
     },
     "metadata": {},
     "output_type": "display_data"
    }
   ],
   "source": [
    "import matplotlib.pyplot as plt\n",
    "\n",
    "# Computing relatives importances of all features\n",
    "relative_importances = features_importance.abs() / features_importance.abs().sum()\n",
    "\n",
    "# Setting labels of the pie-plot\n",
    "labels = ['ENERGYSTARScore', 'other features']\n",
    "\n",
    "# Getting the relative importance of 'ENERGYSTARScore'\n",
    "sizes = [relative_importances.loc['ENERGYSTARScore'], 1-relative_importances.loc['ENERGYSTARScore']]\n",
    "\n",
    "# only \"explode\" the 'ENERGYSTARScore' slice\n",
    "explode = (0.1, 0) \n",
    "\n",
    "fig1, ax1 = plt.subplots(figsize=(6, 6))\n",
    "\n",
    "ax1.pie(sizes, explode=explode, labels=labels, autopct='%1.1f%%',\n",
    "        shadow=False, startangle=0)\n",
    "ax1.axis('equal')  # Equal aspect ratio ensures that pie is drawn as a circle.\n",
    "plt.title(\"Importance of 'ENERGYSTARScore' (AdaBoost)\", fontsize=20)\n",
    "plt.show()"
   ]
  },
  {
   "cell_type": "markdown",
   "metadata": {},
   "source": [
    "### Ré-entraînement du modèle final sans la variable 'ENERGYSTARScore'"
   ]
  },
  {
   "cell_type": "code",
   "execution_count": 49,
   "metadata": {},
   "outputs": [
    {
     "name": "stdout",
     "output_type": "stream",
     "text": [
      "The score of the model with 'ENERGYSTARScore' is : R² = 0.437\n"
     ]
    }
   ],
   "source": [
    "# Evaluating the performance of the model withthe 'ENERGYSTARScore' feature\n",
    "score_test = final_model.score(X_test, y_test)\n",
    "print(\"The score of the model with 'ENERGYSTARScore' is : R² = {:.3f}\".format(score_test))"
   ]
  },
  {
   "cell_type": "code",
   "execution_count": 50,
   "metadata": {},
   "outputs": [],
   "source": [
    "# Getting the input data without 'ENERGYSTARScore'\n",
    "mask = X_train.columns != 'ENERGYSTARScore'\n",
    "X_train_wo_ENERGIE = X_train.loc[:, mask]\n",
    "X_test_wo_ENERGIE = X_test.loc[:, mask]"
   ]
  },
  {
   "cell_type": "code",
   "execution_count": 51,
   "metadata": {},
   "outputs": [],
   "source": [
    "def build_adapted_model(X):\n",
    "    \"\"\"This function adapt the current best model (best algorithm with its fitted hyper-parameters)\n",
    "    to data sets of new shape (new features and so on.).\n",
    "    Mainly for pre-processing compatibility purpose.\"\"\"\n",
    "    \n",
    "    # Rebuilt preprocessing step from this\n",
    "    preprocessor = define_preprocessor(X)\n",
    "\n",
    "    # Getting best_model parameters\n",
    "    best_regressor = best_model.get_params()['regressor']\n",
    "\n",
    "    # Rebuilt pipeline from this\n",
    "    adapted_model = define_pipeline(preprocessor, best_regressor)\n",
    "    \n",
    "    # Return the adapted model\n",
    "    return adapted_model"
   ]
  },
  {
   "cell_type": "code",
   "execution_count": 52,
   "metadata": {},
   "outputs": [
    {
     "name": "stdout",
     "output_type": "stream",
     "text": [
      "The score of the final model without 'ENERGYSTARScore' is : R² = 0.515\n"
     ]
    }
   ],
   "source": [
    "# Building a model without ENERGIEStarScore\n",
    "adapted_model = build_adapted_model(X_train_wo_ENERGIE)\n",
    "\n",
    "# Training the model without the 'ENERGYSTARScore' feature\n",
    "adapted_model.fit(X_train_wo_ENERGIE, y_train)\n",
    "\n",
    "# Re-evaluating the performance of the model without the 'ENERGYSTARScore' feature with cross-validation\n",
    "score_wo_test = adapted_model.score(X_test_wo_ENERGIE, y_test)\n",
    "print(\"The score of the final model without 'ENERGYSTARScore' is : R² = {:.3f}\".format(score_wo_test))\n",
    "\n",
    "# Getting back the final model\n",
    "final_model = build_adapted_model(X)\n",
    "final_model.fit(X_train, y_train) ;"
   ]
  },
  {
   "cell_type": "markdown",
   "metadata": {},
   "source": [
    "## **Ré-entraînement final et sauvegarde du modèle**\n",
    "Nous ré-entraînons le modèle avec les les hyperparamètres sélectionnés, sur l'ensemble du jeu de données pour lequel nous disposons des étiquettes cibles : le jeu de données d'entraînement et le jeu de données de test.\n",
    "\n",
    "Nous sauvegardons le modèle dans un fichier pickle pour usage ultérieur, en indiquant dans le nom du fichier la version de scikit-learn."
   ]
  },
  {
   "cell_type": "code",
   "execution_count": 53,
   "metadata": {},
   "outputs": [
    {
     "data": {
      "text/plain": [
       "['model_0.21.2.pkl']"
      ]
     },
     "execution_count": 53,
     "metadata": {},
     "output_type": "execute_result"
    }
   ],
   "source": [
    "# Re-training the final model on the whole set\n",
    "final_model.fit(X, y)\n",
    "\n",
    "# Load libraries\n",
    "import sklearn\n",
    "import joblib\n",
    "\n",
    "# Get scikit-learn version\n",
    "scikit_version = sklearn.__version__\n",
    "\n",
    "# Save model as pickle file\n",
    "joblib.dump(final_model, \"model_{version}.pkl\".format(version=scikit_version))"
   ]
  },
  {
   "cell_type": "markdown",
   "metadata": {},
   "source": [
    "## **Mise en production**\n",
    "Nous ne disposons que de quelques observations non-étiquettées sur lesquelles utiliser notre modèle pour estimer la consommation d'énergie et/ou l'émission de gaz à effets de serre. Cela nous permet néanmoins de valider le flux de données."
   ]
  },
  {
   "cell_type": "markdown",
   "metadata": {},
   "source": [
    "### Chargement du modèle"
   ]
  },
  {
   "cell_type": "code",
   "execution_count": 54,
   "metadata": {},
   "outputs": [],
   "source": [
    "# Load model from file\n",
    "try:\n",
    "    final_model = joblib.load(\"model_0.21.2.pkl\")\n",
    "except:\n",
    "    final_model = joblib.load(\"model_0.20.3.pkl\")"
   ]
  },
  {
   "cell_type": "markdown",
   "metadata": {},
   "source": [
    "### Élimination des colonnes d'étiquettes\n",
    "   Afin d'avoir un jeu de données ayant le même format que le jeu d'entraînement."
   ]
  },
  {
   "cell_type": "code",
   "execution_count": 55,
   "metadata": {},
   "outputs": [],
   "source": [
    "production_set = production_set.drop(target_cols, axis=1)"
   ]
  },
  {
   "cell_type": "markdown",
   "metadata": {},
   "source": [
    "### Prédictions sur les données non-étiquettées"
   ]
  },
  {
   "cell_type": "code",
   "execution_count": 56,
   "metadata": {},
   "outputs": [
    {
     "data": {
      "text/plain": [
       "array([120.250765,  13.904975,  11.965145,  22.005115])"
      ]
     },
     "execution_count": 56,
     "metadata": {},
     "output_type": "execute_result"
    }
   ],
   "source": [
    "# Using prediction of best model\n",
    "final_model.predict(production_set)"
   ]
  },
  {
   "cell_type": "markdown",
   "metadata": {},
   "source": [
    "### Suppression du dossier de cache"
   ]
  },
  {
   "cell_type": "code",
   "execution_count": 57,
   "metadata": {},
   "outputs": [],
   "source": [
    "from shutil import rmtree\n",
    "\n",
    "# Clear the cache directory when you don't need it anymore\n",
    "rmtree(cachedir)"
   ]
  },
  {
   "cell_type": "markdown",
   "metadata": {},
   "source": [
    "# **Pistes d'améliorations**"
   ]
  },
  {
   "cell_type": "markdown",
   "metadata": {},
   "source": [
    "# **TO DO LIST**\n",
    "* faire un modèle compatible avec une modification du nombre de features : \n",
    "    * energystar score,\n",
    "    * variables polynomiales,\n",
    "    * variables mesurées (que l'on ne voudrait plus mesurer…),\n",
    "    * longitude et latitude…\n",
    "\n",
    "\n",
    "* Bootstrap au lieu de validation croisée imbriquée pour l'évaluation finale\n",
    "* Faire une ACP en plus de la t-SNE\n",
    "* Heatmap pour les cas où il y a 2 hyper-paramètres"
   ]
  },
  {
   "cell_type": "markdown",
   "metadata": {},
   "source": [
    "# <span style=\"color:red\">**TO FIX LIST**</span>\n",
    "* problème de version sklearn : essayer avec pip au lieu de conda, hors anaconda\n",
    "* Normaliser les variables cibles avec Box-Cox\n",
    "* Distribution empirique : avec Seaborn\n",
    "* feature engineering sur les variables explicatives (???)\n",
    "* marges d'erreur ou intervalle de confiance de la valeur estimée. Possible ?\n",
    "* suppression des outliers avant le split train_set et test_set : ok ?\n",
    "* modèle hybride ne fonctionne pas avec la validation croisée\n",
    "* incompatibilité du bayesian optimiser (skopt) avec sklearn 0.21"
   ]
  },
  {
   "cell_type": "code",
   "execution_count": null,
   "metadata": {},
   "outputs": [],
   "source": []
  }
 ],
 "metadata": {
  "kernelspec": {
   "display_name": "Python 3",
   "language": "python",
   "name": "python3"
  },
  "language_info": {
   "codemirror_mode": {
    "name": "ipython",
    "version": 3
   },
   "file_extension": ".py",
   "mimetype": "text/x-python",
   "name": "python",
   "nbconvert_exporter": "python",
   "pygments_lexer": "ipython3",
   "version": "3.7.3"
  }
 },
 "nbformat": 4,
 "nbformat_minor": 4
}
