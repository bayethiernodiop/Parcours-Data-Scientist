{
 "cells": [
  {
   "cell_type": "markdown",
   "metadata": {},
   "source": [
    "# Projet 3 : Concevez une application au service de la santé publique\n",
    "\n",
    "### Votre mission\n",
    "\n",
    "Après avoir lu l’appel à projets, voici les différentes étapes que vous avez identifiées :\n",
    "\n",
    "1) Traiter le jeu de données afin de repérer des variables pertinentes pour les traitements à venir. Automatiser ces traitements pour éviter de répéter ces opérations. Le programme doit fonctionner si la base de données est légèrement modifiée (ajout d’entrées, par exemple).\n",
    "\n",
    "2) Tout au long de l’analyse, produire des visualisations afin de mieux comprendre les données. Effectuer une analyse univariée pour chaque variable intéressante, afin de synthétiser son comportement. L’appel à projets spécifie que l’analyse doit être simple à comprendre pour un public néophyte. Soyez donc attentif à la lisibilité : taille des textes, choix des couleurs, netteté suffisante, et variez les graphiques (boxplots, histogrammes, diagrammes circulaires, nuages de points…) pour illustrer au mieux votre propos.\n",
    "\n",
    "3) Confirmer ou infirmer les hypothèses  à l’aide d’une analyse multivariée. Effectuer les tests statistiques appropriés pour vérifier la significativité des résultats.\n",
    "\n",
    "4) Élaborer une idée d’application. Identifier des arguments justifiant la faisabilité (ou non) de l’application à partir des données Open Food Facts.\n",
    "\n",
    "5) Rédiger un rapport d’exploration et pitcher votre idée durant la soutenance du projet."
   ]
  },
  {
   "cell_type": "markdown",
   "metadata": {},
   "source": [
    "# Import des données"
   ]
  },
  {
   "cell_type": "code",
   "execution_count": 1,
   "metadata": {},
   "outputs": [],
   "source": [
    "import numpy as np\n",
    "import pandas as pd\n",
    "import matplotlib.pyplot as plt\n",
    "import seaborn as sns\n",
    "sns.set()"
   ]
  },
  {
   "cell_type": "markdown",
   "metadata": {},
   "source": [
    "Nous chargeons le dictionnaire des dtypes sous-classés."
   ]
  },
  {
   "cell_type": "code",
   "execution_count": 2,
   "metadata": {},
   "outputs": [],
   "source": [
    "import json\n",
    "filename = 'dict_dtypes.json'\n",
    "\n",
    "# Loading\n",
    "with open(filename, 'r') as infile:\n",
    "    dict_dtypes = json.load(infile)"
   ]
  },
  {
   "cell_type": "code",
   "execution_count": 3,
   "metadata": {},
   "outputs": [
    {
     "name": "stdout",
     "output_type": "stream",
     "text": [
      "The size of the initial database is: 2374884505 bytes.\n"
     ]
    }
   ],
   "source": [
    "path_file = \"en.openfoodfacts.org.products.csv\"\n",
    "\n",
    "# Print the size of the final database\n",
    "import os\n",
    "print(\"The size of the initial database is: {} bytes.\".format(os.path.getsize(path_file)))"
   ]
  },
  {
   "cell_type": "markdown",
   "metadata": {},
   "source": [
    "Le fichier initial a une taille d'environ 2,4 Go."
   ]
  },
  {
   "cell_type": "code",
   "execution_count": 4,
   "metadata": {},
   "outputs": [
    {
     "name": "stdout",
     "output_type": "stream",
     "text": [
      "<class 'pandas.core.frame.DataFrame'>\n",
      "RangeIndex: 882172 entries, 0 to 882171\n",
      "Columns: 175 entries, code to carnitine_100g\n",
      "dtypes: float32(117), int32(2), object(56)\n",
      "memory usage: 777.4+ MB\n"
     ]
    }
   ],
   "source": [
    "# Loading data\n",
    "data_raw = pd.read_csv(path_file, # file\n",
    "                       sep=\"\\t\", # separator\n",
    "                       low_memory=False, # avoid a warning for big files\n",
    "                       dtype=dict_dtypes, # downcasted dtypes\n",
    "                      )\n",
    "data_raw.info()"
   ]
  },
  {
   "cell_type": "markdown",
   "metadata": {},
   "source": [
    "Le sous-classement des dtypes nous a permis d'alléger l'allocation mémoire d'environ 35% (774 Mo au lieu de +1.2 Go)."
   ]
  },
  {
   "cell_type": "markdown",
   "metadata": {},
   "source": [
    "## Sous-classement des dtytes (*downcast*)\n",
    "Par défaut, Pandas charge les données en int64 ou en float64. Pour limiter la charge mémoire, il est possible d'essayer de changer le type de données."
   ]
  },
  {
   "cell_type": "code",
   "execution_count": 5,
   "metadata": {},
   "outputs": [],
   "source": [
    "def downcast_dtypes(dataframe, save=True):\n",
    "    '''This function tries to downcast integer and floating dtypes columns\n",
    "    to the smallest numerical corresponding dtype.\n",
    "    It returns a dictionnary of the actually downcasted dtypes.'''\n",
    "    \n",
    "    # initialise the dict of downcasted dtypes for features\n",
    "    dict_dtypes = {}\n",
    "    \n",
    "    # getting list of integer columns\n",
    "    columns_int = dataframe.select_dtypes(include=['integer']).columns\n",
    "    \n",
    "    for column in columns_int:\n",
    "        old_dtype = str(dataframe[column].dtypes)\n",
    "        # trying to downcast integer columns (min.: np.int8)\n",
    "        dataframe[column] = pd.to_numeric(dataframe[column], downcast='integer')\n",
    "        new_dtype = str(dataframe[column].dtypes)\n",
    "        \n",
    "        # if dtype was downcasted\n",
    "        if new_dtype != old_dtype:\n",
    "            # add new key in dictionnary\n",
    "            dict_dtypes[column] = str(dataframe[column].dtypes)\n",
    "\n",
    "    # getting list of floatting columns\n",
    "    columns_float = dataframe.select_dtypes(include=['floating']).columns\n",
    "    \n",
    "    for column in columns_float:\n",
    "        old_dtype = str(dataframe[column].dtypes)\n",
    "        # trying to downcast float columns (min.: np.float32)\n",
    "        dataframe[column] = pd.to_numeric(dataframe[column], downcast='float')\n",
    "        new_dtype = str(dataframe[column].dtypes)\n",
    "        \n",
    "        # if dtype was downcasted\n",
    "        if new_dtype != old_dtype:\n",
    "            # add new key in dictionnary\n",
    "            dict_dtypes[column] = str(dataframe[column].dtypes)\n",
    "        \n",
    "        \n",
    "    # Saving as a json file\n",
    "    if save==True:\n",
    "        import json\n",
    "        \n",
    "        filename = 'dict_dtypes.json'\n",
    "        with open(filename, 'w') as outfile:\n",
    "            json.dump(dict_dtypes, outfile)\n",
    "        \n",
    "    # return dict of downcasted dtypes\n",
    "    return dict_dtypes"
   ]
  },
  {
   "cell_type": "raw",
   "metadata": {},
   "source": [
    "dict_dtypes = downcast_dtypes(data_raw)\n",
    "data_raw.info()"
   ]
  },
  {
   "cell_type": "code",
   "execution_count": 6,
   "metadata": {},
   "outputs": [
    {
     "name": "stdout",
     "output_type": "stream",
     "text": [
      "DataFrame has 882172 rows and 175 columns.\n",
      "The global filling rate of the DataFrame is : 20.99%\n"
     ]
    },
    {
     "data": {
      "image/png": "[encoded data removed]",
      "text/plain": [
       "<Figure size 360x360 with 1 Axes>"
      ]
     },
     "metadata": {},
     "output_type": "display_data"
    }
   ],
   "source": [
    "def filling_rate(dataframe):\n",
    "    \"\"\"Calcuates and displays the shape of the dataframe and the filling rate\"\"\"\n",
    "    \n",
    "    # Loading libraries\n",
    "    import matplotlib.pyplot as plt\n",
    "    import seaborn as sns\n",
    "    import math\n",
    "    \n",
    "    sns.set()\n",
    "    \n",
    "    # get the numbers of rows and columns in the dataframe\n",
    "    nb_rows, nb_columns = dataframe.shape\n",
    "    print(\"DataFrame has {} rows and {} columns.\".format(nb_rows,nb_columns))\n",
    "\n",
    "    # get the number of non-Nan data in the dataframe\n",
    "    nb_data = dataframe.count().sum()\n",
    "\n",
    "    # computing the filling rate\n",
    "    filling_rate = nb_data / (nb_rows * nb_columns)\n",
    "    print(\"The global filling rate of the DataFrame is : {:.2%}\".format(filling_rate))\n",
    "      \n",
    "    # Setting frequencies and labels for pie plot\n",
    "    frequencies = [filling_rate, 1 - filling_rate]\n",
    "    labels = [\"Filled data\", \"Missing data\"]\n",
    "    \n",
    "    # General informations for the pie plot\n",
    "    fig, ax = plt.subplots(figsize=(5, 5))\n",
    "    plt.title(\"Filling of the DataFrame\", fontsize=25)\n",
    "    ax.axis(\"equal\")\n",
    "    explode = (0.1, 0)  # only \"explode\" the 1st slice\n",
    "\n",
    "    # Plotting pie plot\n",
    "    ax.pie(frequencies,\n",
    "           explode=explode,\n",
    "           # labels=labels,\n",
    "           autopct='%1.2f%%',\n",
    "           shadow=True,\n",
    "          )\n",
    "    plt.legend(labels)\n",
    "\n",
    "filling_rate(data_raw)"
   ]
  },
  {
   "cell_type": "code",
   "execution_count": 7,
   "metadata": {},
   "outputs": [
    {
     "data": {
      "text/html": [
       "<div>\n",
       "<style scoped>\n",
       "    .dataframe tbody tr th:only-of-type {\n",
       "        vertical-align: middle;\n",
       "    }\n",
       "\n",
       "    .dataframe tbody tr th {\n",
       "        vertical-align: top;\n",
       "    }\n",
       "\n",
       "    .dataframe thead th {\n",
       "        text-align: right;\n",
       "    }\n",
       "</style>\n",
       "<table border=\"1\" class=\"dataframe\">\n",
       "  <thead>\n",
       "    <tr style=\"text-align: right;\">\n",
       "      <th></th>\n",
       "      <th>code</th>\n",
       "      <th>url</th>\n",
       "      <th>creator</th>\n",
       "      <th>created_t</th>\n",
       "      <th>created_datetime</th>\n",
       "      <th>last_modified_t</th>\n",
       "      <th>last_modified_datetime</th>\n",
       "      <th>product_name</th>\n",
       "      <th>generic_name</th>\n",
       "      <th>quantity</th>\n",
       "      <th>...</th>\n",
       "      <th>carbon-footprint-from-meat-or-fish_100g</th>\n",
       "      <th>nutrition-score-fr_100g</th>\n",
       "      <th>nutrition-score-uk_100g</th>\n",
       "      <th>glycemic-index_100g</th>\n",
       "      <th>water-hardness_100g</th>\n",
       "      <th>choline_100g</th>\n",
       "      <th>phylloquinone_100g</th>\n",
       "      <th>beta-glucan_100g</th>\n",
       "      <th>inositol_100g</th>\n",
       "      <th>carnitine_100g</th>\n",
       "    </tr>\n",
       "  </thead>\n",
       "  <tbody>\n",
       "    <tr>\n",
       "      <th>0</th>\n",
       "      <td>0000000000000010</td>\n",
       "      <td>http://world-en.openfoodfacts.org/product/0000...</td>\n",
       "      <td>openfoodfacts-contributors</td>\n",
       "      <td>1550246813</td>\n",
       "      <td>2019-02-15T16:06:53Z</td>\n",
       "      <td>1550246813</td>\n",
       "      <td>2019-02-15T16:06:53Z</td>\n",
       "      <td>NaN</td>\n",
       "      <td>NaN</td>\n",
       "      <td>NaN</td>\n",
       "      <td>...</td>\n",
       "      <td>NaN</td>\n",
       "      <td>NaN</td>\n",
       "      <td>NaN</td>\n",
       "      <td>NaN</td>\n",
       "      <td>NaN</td>\n",
       "      <td>NaN</td>\n",
       "      <td>NaN</td>\n",
       "      <td>NaN</td>\n",
       "      <td>NaN</td>\n",
       "      <td>NaN</td>\n",
       "    </tr>\n",
       "    <tr>\n",
       "      <th>1</th>\n",
       "      <td>000000000000010</td>\n",
       "      <td>http://world-en.openfoodfacts.org/product/0000...</td>\n",
       "      <td>openfoodfacts-contributors</td>\n",
       "      <td>1550246831</td>\n",
       "      <td>2019-02-15T16:07:11Z</td>\n",
       "      <td>1550246831</td>\n",
       "      <td>2019-02-15T16:07:11Z</td>\n",
       "      <td>NaN</td>\n",
       "      <td>NaN</td>\n",
       "      <td>NaN</td>\n",
       "      <td>...</td>\n",
       "      <td>NaN</td>\n",
       "      <td>NaN</td>\n",
       "      <td>NaN</td>\n",
       "      <td>NaN</td>\n",
       "      <td>NaN</td>\n",
       "      <td>NaN</td>\n",
       "      <td>NaN</td>\n",
       "      <td>NaN</td>\n",
       "      <td>NaN</td>\n",
       "      <td>NaN</td>\n",
       "    </tr>\n",
       "    <tr>\n",
       "      <th>2</th>\n",
       "      <td>0000000000017</td>\n",
       "      <td>http://world-en.openfoodfacts.org/product/0000...</td>\n",
       "      <td>kiliweb</td>\n",
       "      <td>1529059080</td>\n",
       "      <td>2018-06-15T10:38:00Z</td>\n",
       "      <td>1529059204</td>\n",
       "      <td>2018-06-15T10:40:04Z</td>\n",
       "      <td>Vitória crackers</td>\n",
       "      <td>NaN</td>\n",
       "      <td>NaN</td>\n",
       "      <td>...</td>\n",
       "      <td>NaN</td>\n",
       "      <td>NaN</td>\n",
       "      <td>NaN</td>\n",
       "      <td>NaN</td>\n",
       "      <td>NaN</td>\n",
       "      <td>NaN</td>\n",
       "      <td>NaN</td>\n",
       "      <td>NaN</td>\n",
       "      <td>NaN</td>\n",
       "      <td>NaN</td>\n",
       "    </tr>\n",
       "    <tr>\n",
       "      <th>3</th>\n",
       "      <td>0000000000031</td>\n",
       "      <td>http://world-en.openfoodfacts.org/product/0000...</td>\n",
       "      <td>isagoofy</td>\n",
       "      <td>1539464774</td>\n",
       "      <td>2018-10-13T21:06:14Z</td>\n",
       "      <td>1539464817</td>\n",
       "      <td>2018-10-13T21:06:57Z</td>\n",
       "      <td>Cacao</td>\n",
       "      <td>NaN</td>\n",
       "      <td>130 g</td>\n",
       "      <td>...</td>\n",
       "      <td>NaN</td>\n",
       "      <td>NaN</td>\n",
       "      <td>NaN</td>\n",
       "      <td>NaN</td>\n",
       "      <td>NaN</td>\n",
       "      <td>NaN</td>\n",
       "      <td>NaN</td>\n",
       "      <td>NaN</td>\n",
       "      <td>NaN</td>\n",
       "      <td>NaN</td>\n",
       "    </tr>\n",
       "    <tr>\n",
       "      <th>4</th>\n",
       "      <td>00000000001111111111</td>\n",
       "      <td>http://world-en.openfoodfacts.org/product/0000...</td>\n",
       "      <td>openfoodfacts-contributors</td>\n",
       "      <td>1560020173</td>\n",
       "      <td>2019-06-08T18:56:13Z</td>\n",
       "      <td>1560020173</td>\n",
       "      <td>2019-06-08T18:56:13Z</td>\n",
       "      <td>Sfiudwx</td>\n",
       "      <td>NaN</td>\n",
       "      <td>dgesc</td>\n",
       "      <td>...</td>\n",
       "      <td>NaN</td>\n",
       "      <td>NaN</td>\n",
       "      <td>NaN</td>\n",
       "      <td>NaN</td>\n",
       "      <td>NaN</td>\n",
       "      <td>NaN</td>\n",
       "      <td>NaN</td>\n",
       "      <td>NaN</td>\n",
       "      <td>NaN</td>\n",
       "      <td>NaN</td>\n",
       "    </tr>\n",
       "  </tbody>\n",
       "</table>\n",
       "<p>5 rows × 175 columns</p>\n",
       "</div>"
      ],
      "text/plain": [
       "                   code                                                url  \\\n",
       "0      0000000000000010  http://world-en.openfoodfacts.org/product/0000...   \n",
       "1       000000000000010  http://world-en.openfoodfacts.org/product/0000...   \n",
       "2         0000000000017  http://world-en.openfoodfacts.org/product/0000...   \n",
       "3         0000000000031  http://world-en.openfoodfacts.org/product/0000...   \n",
       "4  00000000001111111111  http://world-en.openfoodfacts.org/product/0000...   \n",
       "\n",
       "                      creator   created_t      created_datetime  \\\n",
       "0  openfoodfacts-contributors  1550246813  2019-02-15T16:06:53Z   \n",
       "1  openfoodfacts-contributors  1550246831  2019-02-15T16:07:11Z   \n",
       "2                     kiliweb  1529059080  2018-06-15T10:38:00Z   \n",
       "3                    isagoofy  1539464774  2018-10-13T21:06:14Z   \n",
       "4  openfoodfacts-contributors  1560020173  2019-06-08T18:56:13Z   \n",
       "\n",
       "   last_modified_t last_modified_datetime      product_name generic_name  \\\n",
       "0       1550246813   2019-02-15T16:06:53Z               NaN          NaN   \n",
       "1       1550246831   2019-02-15T16:07:11Z               NaN          NaN   \n",
       "2       1529059204   2018-06-15T10:40:04Z  Vitória crackers          NaN   \n",
       "3       1539464817   2018-10-13T21:06:57Z             Cacao          NaN   \n",
       "4       1560020173   2019-06-08T18:56:13Z           Sfiudwx          NaN   \n",
       "\n",
       "  quantity  ... carbon-footprint-from-meat-or-fish_100g  \\\n",
       "0      NaN  ...                                     NaN   \n",
       "1      NaN  ...                                     NaN   \n",
       "2      NaN  ...                                     NaN   \n",
       "3    130 g  ...                                     NaN   \n",
       "4    dgesc  ...                                     NaN   \n",
       "\n",
       "  nutrition-score-fr_100g nutrition-score-uk_100g glycemic-index_100g  \\\n",
       "0                     NaN                     NaN                 NaN   \n",
       "1                     NaN                     NaN                 NaN   \n",
       "2                     NaN                     NaN                 NaN   \n",
       "3                     NaN                     NaN                 NaN   \n",
       "4                     NaN                     NaN                 NaN   \n",
       "\n",
       "  water-hardness_100g choline_100g phylloquinone_100g beta-glucan_100g  \\\n",
       "0                 NaN          NaN                NaN              NaN   \n",
       "1                 NaN          NaN                NaN              NaN   \n",
       "2                 NaN          NaN                NaN              NaN   \n",
       "3                 NaN          NaN                NaN              NaN   \n",
       "4                 NaN          NaN                NaN              NaN   \n",
       "\n",
       "  inositol_100g carnitine_100g  \n",
       "0           NaN            NaN  \n",
       "1           NaN            NaN  \n",
       "2           NaN            NaN  \n",
       "3           NaN            NaN  \n",
       "4           NaN            NaN  \n",
       "\n",
       "[5 rows x 175 columns]"
      ]
     },
     "execution_count": 7,
     "metadata": {},
     "output_type": "execute_result"
    }
   ],
   "source": [
    "data_raw.head(5)"
   ]
  },
  {
   "cell_type": "markdown",
   "metadata": {},
   "source": [
    "Chaque colonne correspond à une feature, et chaque ligne correspond à un produit.\n",
    "\n",
    "Nous voyons que sur les premières lignes au moins, de nombreuses données sont manquantes. Ces données manquantes sont indiquées par NaN."
   ]
  },
  {
   "cell_type": "markdown",
   "metadata": {},
   "source": [
    "# Sélection des colonnes"
   ]
  },
  {
   "cell_type": "code",
   "execution_count": 8,
   "metadata": {},
   "outputs": [
    {
     "name": "stdout",
     "output_type": "stream",
     "text": [
      "Names of the columns : ['code', 'url', 'creator', 'created_t', 'created_datetime', 'last_modified_t', 'last_modified_datetime', 'product_name', 'generic_name', 'quantity', 'packaging', 'packaging_tags', 'brands', 'brands_tags', 'categories', 'categories_tags', 'categories_en', 'origins', 'origins_tags', 'manufacturing_places', 'manufacturing_places_tags', 'labels', 'labels_tags', 'labels_en', 'emb_codes', 'emb_codes_tags', 'first_packaging_code_geo', 'cities', 'cities_tags', 'purchase_places', 'stores', 'countries', 'countries_tags', 'countries_en', 'ingredients_text', 'allergens', 'allergens_en', 'traces', 'traces_tags', 'traces_en', 'serving_size', 'serving_quantity', 'no_nutriments', 'additives_n', 'additives', 'additives_tags', 'additives_en', 'ingredients_from_palm_oil_n', 'ingredients_from_palm_oil', 'ingredients_from_palm_oil_tags', 'ingredients_that_may_be_from_palm_oil_n', 'ingredients_that_may_be_from_palm_oil', 'ingredients_that_may_be_from_palm_oil_tags', 'nutrition_grade_fr', 'nova_group', 'pnns_groups_1', 'pnns_groups_2', 'states', 'states_tags', 'states_en', 'main_category', 'main_category_en', 'image_url', 'image_small_url', 'image_ingredients_url', 'image_ingredients_small_url', 'image_nutrition_url', 'image_nutrition_small_url', 'energy_100g', 'energy-from-fat_100g', 'fat_100g', 'saturated-fat_100g', '-butyric-acid_100g', '-caproic-acid_100g', '-caprylic-acid_100g', '-capric-acid_100g', '-lauric-acid_100g', '-myristic-acid_100g', '-palmitic-acid_100g', '-stearic-acid_100g', '-arachidic-acid_100g', '-behenic-acid_100g', '-lignoceric-acid_100g', '-cerotic-acid_100g', '-montanic-acid_100g', '-melissic-acid_100g', 'monounsaturated-fat_100g', 'polyunsaturated-fat_100g', 'omega-3-fat_100g', '-alpha-linolenic-acid_100g', '-eicosapentaenoic-acid_100g', '-docosahexaenoic-acid_100g', 'omega-6-fat_100g', '-linoleic-acid_100g', '-arachidonic-acid_100g', '-gamma-linolenic-acid_100g', '-dihomo-gamma-linolenic-acid_100g', 'omega-9-fat_100g', '-oleic-acid_100g', '-elaidic-acid_100g', '-gondoic-acid_100g', '-mead-acid_100g', '-erucic-acid_100g', '-nervonic-acid_100g', 'trans-fat_100g', 'cholesterol_100g', 'carbohydrates_100g', 'sugars_100g', '-sucrose_100g', '-glucose_100g', '-fructose_100g', '-lactose_100g', '-maltose_100g', '-maltodextrins_100g', 'starch_100g', 'polyols_100g', 'fiber_100g', 'proteins_100g', 'casein_100g', 'serum-proteins_100g', 'nucleotides_100g', 'salt_100g', 'sodium_100g', 'alcohol_100g', 'vitamin-a_100g', 'beta-carotene_100g', 'vitamin-d_100g', 'vitamin-e_100g', 'vitamin-k_100g', 'vitamin-c_100g', 'vitamin-b1_100g', 'vitamin-b2_100g', 'vitamin-pp_100g', 'vitamin-b6_100g', 'vitamin-b9_100g', 'folates_100g', 'vitamin-b12_100g', 'biotin_100g', 'pantothenic-acid_100g', 'silica_100g', 'bicarbonate_100g', 'potassium_100g', 'chloride_100g', 'calcium_100g', 'phosphorus_100g', 'iron_100g', 'magnesium_100g', 'zinc_100g', 'copper_100g', 'manganese_100g', 'fluoride_100g', 'selenium_100g', 'chromium_100g', 'molybdenum_100g', 'iodine_100g', 'caffeine_100g', 'taurine_100g', 'ph_100g', 'fruits-vegetables-nuts_100g', 'fruits-vegetables-nuts-dried_100g', 'fruits-vegetables-nuts-estimate_100g', 'collagen-meat-protein-ratio_100g', 'cocoa_100g', 'chlorophyl_100g', 'carbon-footprint_100g', 'carbon-footprint-from-meat-or-fish_100g', 'nutrition-score-fr_100g', 'nutrition-score-uk_100g', 'glycemic-index_100g', 'water-hardness_100g', 'choline_100g', 'phylloquinone_100g', 'beta-glucan_100g', 'inositol_100g', 'carnitine_100g']\n"
     ]
    }
   ],
   "source": [
    "# List of names of the columns\n",
    "print(\"Names of the columns :\", list(data_raw))"
   ]
  },
  {
   "cell_type": "markdown",
   "metadata": {},
   "source": [
    "Comme indiqué dans l'appel à projet, les champs sont séparés en sections. Mais selon le descriptif des données sur le site  [openfoodfacts.org](https://world.openfoodfacts.org/data/data-fields.txt), il y a 5 sections et non pas 4. Nous remarquons aussi certaines variations dans les intitulés des colonnes, et quelques colonnes supplémentaires.\n",
    "\n",
    "1. \"*general informations*\" : les informations générales sur la fiche du produit\n",
    "   * de la colonne 'code'…\n",
    "   * … à la colonne 'quantity'\n",
    "2. \"*tags*\" : un ensemble de tags\n",
    "   * de la colonne 'packaging'…\n",
    "   * … à la colonne 'countries_en'\n",
    "3. \"*ingredients*\": les ingrédients et additifs éventuels.\n",
    "   * de la colonne 'ingredients_text'…\n",
    "   * … à la colonne 'traces_en'\n",
    "4. \"*misc. data*\" : des informations diverses\n",
    "   * de la colonne 'serving_size'…\n",
    "   * … à la colonne 'image_nutrition_small_url'\n",
    "5. \"*nutrition facts*\" : des informations nutritionnelles\n",
    "   * de la colonne 'energy_100g'…\n",
    "   * … à la colonne 'carnitine_100g'\n",
    "\n"
   ]
  },
  {
   "cell_type": "markdown",
   "metadata": {},
   "source": [
    "# Transtypage des données"
   ]
  },
  {
   "cell_type": "markdown",
   "metadata": {},
   "source": [
    "### Variables temporelles"
   ]
  },
  {
   "cell_type": "code",
   "execution_count": 9,
   "metadata": {},
   "outputs": [],
   "source": [
    "# List of date and time features\n",
    "datetime_features = [\n",
    "    'created_datetime',\n",
    "    'last_modified_datetime',\n",
    "    'created_t',\n",
    "    'last_modified_t',\n",
    "]\n",
    "\n",
    "# Converting the date and time features\n",
    "for feature in datetime_features:\n",
    "    data_raw[feature] = pd.to_datetime(data_raw[feature])"
   ]
  },
  {
   "cell_type": "markdown",
   "metadata": {},
   "source": [
    "### Variables catégorielles nominales"
   ]
  },
  {
   "cell_type": "code",
   "execution_count": 10,
   "metadata": {},
   "outputs": [],
   "source": [
    "# List of nominal features\n",
    "nominal_features = [\n",
    "    'categories',\n",
    "    'categories_tags',\n",
    "    'categories_en',\n",
    "]\n",
    "\n",
    "# Converting the dtype for nominal features\n",
    "for feature in nominal_features:\n",
    "    data_raw[feature] = data_raw[feature].astype('category')"
   ]
  },
  {
   "cell_type": "markdown",
   "metadata": {},
   "source": [
    "### Variables catégorielles ordinales"
   ]
  },
  {
   "cell_type": "code",
   "execution_count": 11,
   "metadata": {},
   "outputs": [],
   "source": [
    "# List of ordinal features\n",
    "ordinal_features = [\n",
    "    'nova_group',\n",
    "    'nutrition_grade_fr',\n",
    "]\n",
    "\n",
    "# Converting the dtype of ordinal features\n",
    "from pandas.api.types import CategoricalDtype\n",
    "\n",
    "for feature in ordinal_features:\n",
    "    data_raw[feature] = data_raw[feature].astype(CategoricalDtype(ordered=True))"
   ]
  },
  {
   "cell_type": "code",
   "execution_count": 12,
   "metadata": {},
   "outputs": [],
   "source": [
    "def piechart_dtypes(dataframe):\n",
    "    \"\"\"Plot a piechart of dtypes of features in the dataframe\"\"\"\n",
    "    \n",
    "    # Loading libraries\n",
    "    import matplotlib.pyplot as plt\n",
    "    \n",
    "    # get the list of the dtypes in the dataframe\n",
    "    dtypes_count = dataframe.get_dtype_counts() \n",
    "    # Should use : dtypes_count = dataframe.dtypes.value_counts()\n",
    "    # Fix : dtypes_count = df.dtypes.astype(str).value_counts()\n",
    "\n",
    "    # Set frequencies and labels\n",
    "    labels = dtypes_count.index.values\n",
    "    frequencies = dtypes_count.values\n",
    "\n",
    "    # General informations for the pie plot\n",
    "    fig, ax = plt.subplots(figsize=(8, 6))\n",
    "    plt.title(\"Types of features\", fontsize=25)\n",
    "    ax.axis(\"equal\")\n",
    "\n",
    "    # Plotting pie plot\n",
    "    ax.pie(frequencies,\n",
    "            # labels=labels,\n",
    "            autopct='%1.2f%%',\n",
    "            shadow=True,\n",
    "              )\n",
    "    plt.legend(labels)"
   ]
  },
  {
   "cell_type": "code",
   "execution_count": 13,
   "metadata": {},
   "outputs": [
    {
     "data": {
      "image/png": "[encoded data removed]",
      "text/plain": [
       "<Figure size 576x432 with 1 Axes>"
      ]
     },
     "metadata": {},
     "output_type": "display_data"
    }
   ],
   "source": [
    "dataframe = data_raw\n",
    "piechart_dtypes(data_raw)"
   ]
  },
  {
   "cell_type": "markdown",
   "metadata": {},
   "source": [
    "## Élimination des colonnes non-pertinentes pour le projet"
   ]
  },
  {
   "cell_type": "code",
   "execution_count": 14,
   "metadata": {},
   "outputs": [],
   "source": [
    "# List of columns to drop\n",
    "columns_useless = [\n",
    "    'url',\n",
    "    'creator',\n",
    "    'image_url',\n",
    "    'image_small_url',\n",
    "    'image_ingredients_url',\n",
    "    'image_ingredients_small_url',\n",
    "    'image_nutrition_url',\n",
    "    'image_nutrition_small_url',\n",
    "    \n",
    "    'created_datetime',\n",
    "    'last_modified_datetime',\n",
    "    'created_t',\n",
    "    'last_modified_t',\n",
    "    \n",
    "    'states',\n",
    "    'states_tags',\n",
    "    'states_en',\n",
    "]\n",
    "\n",
    "# Droping useless columns\n",
    "data_cleaned = data_raw.drop(columns=columns_useless)"
   ]
  },
  {
   "cell_type": "markdown",
   "metadata": {},
   "source": [
    "# Gestion des doublons (code-barres) : fusion\n",
    "Nous allons nettoyer les doublons (code-barres identiques)."
   ]
  },
  {
   "cell_type": "code",
   "execution_count": 15,
   "metadata": {},
   "outputs": [],
   "source": [
    "def number_duplicates(dataframe, subset):\n",
    "    \"\"\"This function displays and return the number of duplicate in a dataset,\n",
    "    based on a subset of columns.\"\"\"\n",
    "    \n",
    "    # Marking all duplicates\n",
    "    duplicates = dataframe.duplicated(subset=subset, keep=False)\n",
    "    \n",
    "    # If there are duplicated rows\n",
    "    if True in list(duplicates.unique()):\n",
    "        \n",
    "        # Display and return number of duplicated rows\n",
    "        result = len(dataframe[duplicates])\n",
    "        print(\"There are {} duplicated rows.\".format(result))\n",
    "        return result\n",
    "    \n",
    "    # If there are no duplicated rows\n",
    "    else:\n",
    "        print(\"There are no duplicated rows.\")\n",
    "        return 0"
   ]
  },
  {
   "cell_type": "code",
   "execution_count": 16,
   "metadata": {},
   "outputs": [
    {
     "name": "stdout",
     "output_type": "stream",
     "text": [
      "There are 310 duplicated rows.\n"
     ]
    },
    {
     "data": {
      "text/plain": [
       "310"
      ]
     },
     "execution_count": 16,
     "metadata": {},
     "output_type": "execute_result"
    }
   ],
   "source": [
    "dataframe = data_cleaned\n",
    "subset = [\"code\"]\n",
    "\n",
    "number_duplicates(dataframe, subset)"
   ]
  },
  {
   "cell_type": "markdown",
   "metadata": {},
   "source": [
    "Nous définissons une fonction pour gérer les doublons."
   ]
  },
  {
   "cell_type": "code",
   "execution_count": 17,
   "metadata": {},
   "outputs": [],
   "source": [
    "def duplicates_merging(dataframe,subset):\n",
    "    \"\"\"This function handles duplicates rows in the dataframe, based on a subset of columns (features).\"\"\"\n",
    "\n",
    "    # Checking if there are some duplicated rows\n",
    "    duplicates_mask = dataframe.duplicated(subset=subset, keep=False)\n",
    "    if True not in list(duplicates_mask.unique()):\n",
    "        print(\"No duplicates.\")\n",
    "        return dataframe\n",
    "    \n",
    "    print(\"Number of duplicates rows :\", len(dataframe[duplicates_mask]))\n",
    "    \n",
    "    # Filtering the dataframe to keep only duplicated rows\n",
    "    duplicates_mask = dataframe.duplicated(subset=subset, keep=False)\n",
    "    duplicates_df = dataframe[duplicates_mask]\n",
    "\n",
    "    # Group-by subset of columns used for key, sort=False to speed-up\n",
    "    gb = duplicates_df.groupby(subset, sort=False)\n",
    "\n",
    "    # Initializing aggregated dataframe\n",
    "    agg_df = pd.DataFrame()\n",
    "\n",
    "    # Identification of numerical and non-numerical columns\n",
    "    numeric_columns = list(dataframe.select_dtypes(include=[np.number]).columns.values)\n",
    "\n",
    "    # defining aggregation function for non-numerical columns\n",
    "    def agg_mode(x): m = pd.Series.mode(x); return m.values[0] if not m.empty else np.nan\n",
    "\n",
    "    # Iterating upon columns\n",
    "    for column in dataframe.columns:\n",
    "\n",
    "        # Calculate the mean of each group for numeric columns\n",
    "        if column in numeric_columns:\n",
    "            agg_col = gb[column].agg('mean')\n",
    "\n",
    "        # Calculate the mode of each group for numeric columns\n",
    "        else:\n",
    "            agg_col = gb[column].agg(agg_mode)\n",
    "            \n",
    "        # adding the aggregated column to aggregated dataframe\n",
    "        agg_df = pd.concat([agg_df, agg_col], axis=1, sort=True)\n",
    "\n",
    "    # Dropping all duplicates\n",
    "    dataframe_cleaned = dataframe.drop_duplicates(subset=subset, keep=False)\n",
    "\n",
    "    # Concatenating the dataframe without duplicates and the aggregated rows for duplicates\n",
    "    result = dataframe_cleaned.append(agg_df, ignore_index=True, sort=False)\n",
    "\n",
    "    print(\"Shape after handling duplicates :\", result.shape)\n",
    "    return result"
   ]
  },
  {
   "cell_type": "code",
   "execution_count": 18,
   "metadata": {},
   "outputs": [
    {
     "name": "stdout",
     "output_type": "stream",
     "text": [
      "Number of duplicates rows : 310\n",
      "Shape after handling duplicates : (882017, 160)\n"
     ]
    }
   ],
   "source": [
    "dataframe = data_cleaned\n",
    "subset = ['code']\n",
    "\n",
    "data_cleaned = duplicates_merging(dataframe,subset)"
   ]
  },
  {
   "cell_type": "markdown",
   "metadata": {},
   "source": [
    "# Calcul du taux de remplissage par feature"
   ]
  },
  {
   "cell_type": "code",
   "execution_count": 19,
   "metadata": {},
   "outputs": [
    {
     "data": {
      "text/plain": [
       "code                                1.000000\n",
       "carbohydrates_100g                  0.787268\n",
       "ingredients_text                    0.485637\n",
       "serving_quantity                    0.294499\n",
       "calcium_100g                        0.164397\n",
       "generic_name                        0.101254\n",
       "origins_tags                        0.057202\n",
       "vitamin-b2_100g                     0.013173\n",
       "cocoa_100g                          0.004868\n",
       "vitamin-k_100g                      0.001134\n",
       "collagen-meat-protein-ratio_100g    0.000325\n",
       "silica_100g                         0.000112\n",
       "inositol_100g                       0.000040\n",
       "-lauric-acid_100g                   0.000007\n",
       "-montanic-acid_100g                 0.000001\n",
       "-caproic-acid_100g                  0.000000\n",
       "dtype: float64"
      ]
     },
     "execution_count": 19,
     "metadata": {},
     "output_type": "execute_result"
    }
   ],
   "source": [
    "nb_rows, nb_columns = data_cleaned.shape\n",
    "\n",
    "# Count of the values on each column\n",
    "columns_count = data_cleaned.count()\n",
    "\n",
    "# Sort the Series\n",
    "columns_count = columns_count.sort_values(ascending=False)\n",
    "\n",
    "# Calculating filling rates\n",
    "filling_rates = columns_count / nb_rows\n",
    "\n",
    "# Display a sampling (1 out of 10) of columns names and filling rates\n",
    "filling_rates[::10]"
   ]
  },
  {
   "cell_type": "code",
   "execution_count": 20,
   "metadata": {},
   "outputs": [
    {
     "data": {
      "image/png": "[encoded data removed]",
      "text/plain": [
       "<Figure size 1440x720 with 1 Axes>"
      ]
     },
     "metadata": {},
     "output_type": "display_data"
    }
   ],
   "source": [
    "# Plot chart of the filling_rates\n",
    "import matplotlib.pyplot as plt\n",
    "import matplotlib.ticker as ticker\n",
    "import seaborn as sns\n",
    "sns.set()\n",
    "\n",
    "x = range(nb_columns)\n",
    "y = filling_rates\n",
    "\n",
    "fig, ax = plt.subplots(figsize=(20, 10))\n",
    "plt.title(\"Filling rates of features (columns)\", fontsize=25)\n",
    "plt.xlabel(\"Features\", fontsize=15)\n",
    "plt.ylabel(\"Percentage\", fontsize=15)\n",
    "ax.yaxis.set_major_formatter(ticker.PercentFormatter(xmax=1))\n",
    "plot = ax.plot(x, y)"
   ]
  },
  {
   "cell_type": "markdown",
   "metadata": {},
   "source": [
    "Nous constatons que quelques colonnes sont intégralement remplis.\n",
    "\n",
    "Nous constatons aussi que de nombreuses colonnes sont très faiblement ou pas du tout remplies. Ainsi, environ une centaine d'indicateurs (sur les 175 que contient la table) ont un remplissage inférieur à 5%."
   ]
  },
  {
   "cell_type": "markdown",
   "metadata": {},
   "source": [
    "## Imputation pour les lignes ayant un nom de produit identique\n",
    "Pour ces lignes qui possèdent le même nom de produit, nous n'allons pas \"supprimer ni fusionner les doublons\" mais utiliser le champ 'product_name' comme clé pour faire de l'imputation."
   ]
  },
  {
   "cell_type": "code",
   "execution_count": 21,
   "metadata": {},
   "outputs": [
    {
     "name": "stdout",
     "output_type": "stream",
     "text": [
      "There are 370638 duplicated rows.\n"
     ]
    },
    {
     "data": {
      "text/plain": [
       "370638"
      ]
     },
     "execution_count": 21,
     "metadata": {},
     "output_type": "execute_result"
    }
   ],
   "source": [
    "dataframe = data_cleaned\n",
    "subset = [\"product_name\"]\n",
    "\n",
    "number_duplicates(dataframe, subset)"
   ]
  },
  {
   "cell_type": "code",
   "execution_count": 22,
   "metadata": {},
   "outputs": [],
   "source": [
    "def imputation(dataframe, feature, keys):\n",
    "    \"\"\"This function impute substitute values for missing values for a specific column (feature),\n",
    "    based on other rows sharing some properties (values on other fields of subset).\n",
    "    Also add a new feature to inform if the value was imputed.\n",
    "    Does only handle numeric features yet.\"\"\"\n",
    "    \n",
    "    # Identify NaN values pre-imputation\n",
    "    mask_before = dataframe[feature].isnull()\n",
    "    \n",
    "    # Copying the dataframe to avoid manipulating a slice\n",
    "    result = dataframe.copy()\n",
    "    \n",
    "    # Initialize column for imputed values if doesn't exist\n",
    "    if \"imputed_\" + feature not in result.columns:\n",
    "        result[\"imputed_\" + feature] = False\n",
    "    \n",
    "    # Iterating on each feature in the subset\n",
    "    for column in keys:\n",
    "        \n",
    "        # Grouping the DataFrame on the column's value, sort=False to speed-up\n",
    "        grouped = dataframe.groupby(column, sort=False)\n",
    "        \n",
    "        # Computing the mean of feature for each group\n",
    "        means_of_group = grouped[feature].transform('mean') # to adapt for object and categorical dtypes features\n",
    "        \n",
    "        # Filling missing values with the mean of each group\n",
    "        result[feature].fillna(value=means_of_group, axis=0, inplace=True)\n",
    "    \n",
    "    # Identify NaN values post-imputation\n",
    "    mask_after = result[feature].isnull()\n",
    "    \n",
    "    # Values imputed : boolean symetric difference\n",
    "    mask_imputed = mask_after ^ mask_before\n",
    "    \n",
    "    # Update the column to inform that the feature was imputed\n",
    "    result[\"imputed_\" + feature][mask_imputed] = True # raise a SettingWithCopyWarning\n",
    "    \n",
    "    return result"
   ]
  },
  {
   "cell_type": "code",
   "execution_count": 23,
   "metadata": {},
   "outputs": [
    {
     "name": "stdout",
     "output_type": "stream",
     "text": [
      "DataFrame has 882017 rows and 160 columns.\n",
      "The global filling rate of the DataFrame is : 15.40%\n"
     ]
    },
    {
     "data": {
      "image/png": "[encoded data removed]",
      "text/plain": [
       "<Figure size 360x360 with 1 Axes>"
      ]
     },
     "metadata": {},
     "output_type": "display_data"
    }
   ],
   "source": [
    "dataframe = data_cleaned\n",
    "\n",
    "# Before imputation\n",
    "filling_rate(dataframe)"
   ]
  },
  {
   "cell_type": "code",
   "execution_count": 24,
   "metadata": {},
   "outputs": [
    {
     "name": "stderr",
     "output_type": "stream",
     "text": [
      "C:\\Users\\Lebrun\\Anaconda3\\envs\\DS_projet3\\lib\\site-packages\\ipykernel_launcher.py:36: SettingWithCopyWarning: \n",
      "A value is trying to be set on a copy of a slice from a DataFrame\n",
      "\n",
      "See the caveats in the documentation: http://pandas.pydata.org/pandas-docs/stable/indexing.html#indexing-view-versus-copy\n"
     ]
    }
   ],
   "source": [
    "# Ordered list of the keys used to impute the feature\n",
    "keys = ['product_name']\n",
    "\n",
    "# Selection of numeric columns with high enough filling rate\n",
    "numeric_columns = data_cleaned.select_dtypes(include=['number']).columns\n",
    "\n",
    "# Selection of columns to apply\n",
    "mask = filling_rates > 0.75\n",
    "filled_columns = list(filling_rates[mask].index)\n",
    "\n",
    "# Intersection of the two sets (numeric and filling rate)\n",
    "columns_to_impute = list(set(numeric_columns) & set(filled_columns))\n",
    "\n",
    "# Features to impute : numerical columns (barcode is an object column)\n",
    "for feature in columns_to_impute:\n",
    "    \n",
    "    # Proceed to imputation\n",
    "    data_cleaned = imputation(dataframe, feature, keys)"
   ]
  },
  {
   "cell_type": "code",
   "execution_count": 25,
   "metadata": {},
   "outputs": [
    {
     "name": "stdout",
     "output_type": "stream",
     "text": [
      "DataFrame has 882017 rows and 161 columns.\n",
      "The global filling rate of the DataFrame is : 15.95%\n"
     ]
    },
    {
     "data": {
      "image/png": "[encoded data removed]",
      "text/plain": [
       "<Figure size 360x360 with 1 Axes>"
      ]
     },
     "metadata": {},
     "output_type": "display_data"
    }
   ],
   "source": [
    "dataframe = data_cleaned\n",
    "\n",
    "# After imputation\n",
    "filling_rate(dataframe)"
   ]
  },
  {
   "cell_type": "markdown",
   "metadata": {},
   "source": [
    "Remarque : le taux de remplissage a baissé par rapport au taux de remplissage initial en raison de l'élimination des colonnes non pertinentes pour le projet."
   ]
  },
  {
   "cell_type": "markdown",
   "metadata": {},
   "source": [
    "##  Imputation des valeurs numériques manquantes\n",
    "\n",
    "\n",
    "Nous sélectionnons les colonnes numériques ayant un taux de remplissage suffisant (> 75 %)."
   ]
  },
  {
   "cell_type": "markdown",
   "metadata": {},
   "source": [
    "### Identification des colonnes remplies à plus de 75%\n"
   ]
  },
  {
   "cell_type": "code",
   "execution_count": 27,
   "metadata": {},
   "outputs": [
    {
     "data": {
      "text/plain": [
       "code                  1.000000\n",
       "countries_en          0.998958\n",
       "countries_tags        0.998958\n",
       "countries             0.998958\n",
       "pnns_groups_2         0.993442\n",
       "pnns_groups_1         0.983347\n",
       "product_name          0.929310\n",
       "energy_100g           0.793303\n",
       "proteins_100g         0.790943\n",
       "fat_100g              0.787405\n",
       "carbohydrates_100g    0.787268\n",
       "sugars_100g           0.773920\n",
       "salt_100g             0.770428\n",
       "sodium_100g           0.770398\n",
       "saturated-fat_100g    0.756524\n",
       "dtype: float64"
      ]
     },
     "execution_count": 27,
     "metadata": {},
     "output_type": "execute_result"
    }
   ],
   "source": [
    "mask = filling_rates > 0.75\n",
    "filling_rates[mask]"
   ]
  },
  {
   "cell_type": "markdown",
   "metadata": {},
   "source": [
    "Les champs remplis à 100% correspondent vraissemblablement à des champs obligatoires (sur le formulaire de remplissage, ou pour l'enregistrement dans la base de données) ou à de données générées automatiquement (timestamps par exemple) lors de l'ajout d'un produit dans la base de données."
   ]
  },
  {
   "cell_type": "markdown",
   "metadata": {},
   "source": [
    "### Imputation pour les colonnes remplies à plus de 75%\n",
    "Nous appliquons l'[imputateur multivarié expérimental](https://scikit-learn.org/stable/modules/generated/sklearn.impute.IterativeImputer.html#sklearn.impute.IterativeImputer) de scikit-learn."
   ]
  },
  {
   "cell_type": "code",
   "execution_count": 28,
   "metadata": {},
   "outputs": [],
   "source": [
    "# Load libraries\n",
    "from sklearn.experimental import enable_iterative_imputer\n",
    "from sklearn.impute import IterativeImputer\n",
    "\n",
    "# Selection of numeric columns with high enough filling rate\n",
    "numeric_columns = data_cleaned.select_dtypes(include=['number']).columns\n",
    "\n",
    "# Selection of columns to apply\n",
    "filled_columns = list(filling_rates[mask].index)\n",
    "\n",
    "# Intersection of the two sets (numeric and filling rate)\n",
    "columns_to_impute = list(set(numeric_columns) & set(filled_columns))\n",
    "\n",
    "# Create iterative imputer\n",
    "imp = IterativeImputer(max_iter=10, random_state=0)\n",
    "\n",
    "# Train and apply (inplace) the iterative imputer\n",
    "data_cleaned[columns_to_impute] = imp.fit_transform(data_cleaned[columns_to_impute])"
   ]
  },
  {
   "cell_type": "markdown",
   "metadata": {},
   "source": [
    "# Nettoyage des lignes"
   ]
  },
  {
   "cell_type": "markdown",
   "metadata": {},
   "source": [
    "## Filtrage sur le code-barres EAN-13 (colonne 'code')\n",
    "La documentation du site  [openfoodfacts.org](https://world.openfoodfacts.org/data/data-fields.txt) précise : \"*code : barcode of the product (can be EAN-13 or internal codes for some food stores), for products without a barcode, Open Food Facts assigns a number starting with the 200 reserved prefix*\".\n",
    "\n",
    "Nous n'allons toutefois, en raison de notre application, ne garder que les lignes avec un code-barres EAN-13 valide."
   ]
  },
  {
   "cell_type": "code",
   "execution_count": 29,
   "metadata": {},
   "outputs": [],
   "source": [
    "def check_key(barcode):\n",
    "    \"\"\"This function check the control key (last digit) of the 13-digits barcode.\"\"\"\n",
    "    \n",
    "    # Import of regular expressions module\n",
    "    import re\n",
    "\n",
    "    # Definition of regular expression : 13 digits only\n",
    "    regex = \"^\\d{13}$\"\n",
    "\n",
    "    # Compilation of regular expression\n",
    "    pattern = re.compile(regex)\n",
    "    \n",
    "    # Return False if the code does not fit regular expression\n",
    "    if pattern.match(str(barcode))==None:\n",
    "        return False\n",
    "    \n",
    "    # conversion to string to iterate on digits\n",
    "    barcode_str = str(barcode)\n",
    "    \n",
    "    # getting the last digit\n",
    "    last_digit = int(barcode_str[-1:])\n",
    "    \n",
    "    # removing last digit from barcode\n",
    "    barcode_str = barcode_str[:-1]\n",
    "    \n",
    "    # initialisation of the control sum\n",
    "    sum = 0  \n",
    "    \n",
    "    # for each digit in the barcode\n",
    "    for index, digit in enumerate(barcode_str):\n",
    "        digit = int(digit) # conversion back as integer\n",
    "        \n",
    "        # if index is an even number (digits of rank 1, 3, 5…)\n",
    "        if index % 2 == 0:\n",
    "            # adding to the sum with a ponderation of 1\n",
    "            sum += 1*digit\n",
    "        \n",
    "        # if index is an odd number (digits of rank 2, 4, 6…)\n",
    "        else :\n",
    "            # adding to the sum with a ponderation of 1\n",
    "            sum += 3*digit\n",
    "    \n",
    "    # computing the control key with division of the key by 10\n",
    "    rest = sum % 10\n",
    "    if rest == 0 :\n",
    "        key = 0\n",
    "    else:\n",
    "        key = 10 - rest\n",
    "    \n",
    "    # compare control key and last digit of the barcode\n",
    "    if key == last_digit:\n",
    "        return True\n",
    "    else:\n",
    "        return False"
   ]
  },
  {
   "cell_type": "code",
   "execution_count": 30,
   "metadata": {},
   "outputs": [
    {
     "name": "stdout",
     "output_type": "stream",
     "text": [
      "Number of rows in the cleaned data: 807754\n"
     ]
    }
   ],
   "source": [
    "# Matching the pattern in the column 'code' on each line of the DataFrame\n",
    "mask = [check_key(code) for code in data_cleaned['code']]\n",
    "\n",
    "# Dropping the rows with non-compliant EAN-13 code\n",
    "data_cleaned = data_cleaned[mask]\n",
    "print(\"Number of rows in the cleaned data:\", data_cleaned.shape[0])"
   ]
  },
  {
   "cell_type": "markdown",
   "metadata": {},
   "source": [
    "Le filtrage a permis de nettoyer environ 75'000 lignes."
   ]
  },
  {
   "cell_type": "markdown",
   "metadata": {},
   "source": [
    "## Suppression des lignes où le nom est manquant\n",
    "Pour notre application, le nom est une donnée cruciale. Nous décidons donc de supprimer les lignes pour lesquelles le nom est manquant."
   ]
  },
  {
   "cell_type": "code",
   "execution_count": 31,
   "metadata": {},
   "outputs": [
    {
     "name": "stdout",
     "output_type": "stream",
     "text": [
      "Shape of the cleaned data: (767068, 161)\n"
     ]
    }
   ],
   "source": [
    "# Droping rows with empty values in a subset of columns\n",
    "data_cleaned = data_cleaned.dropna(subset=['product_name'])\n",
    "print(\"Shape of the cleaned data:\", data_cleaned.shape)"
   ]
  },
  {
   "cell_type": "markdown",
   "metadata": {},
   "source": [
    "Ce filtrage sur le nom nous a permis d'éliminer 40'000 lignes.\n",
    "\n",
    "Nous allons maintenant gérer les produits ayant un nom dupliqué."
   ]
  },
  {
   "cell_type": "markdown",
   "metadata": {},
   "source": [
    "## Élimination des colonnes remplies à moins de x%\n",
    "Nous faisons une fonction pour éliminer les variables (colonnes) dont le taux de remplissage est inférieur à un seuil."
   ]
  },
  {
   "cell_type": "code",
   "execution_count": 32,
   "metadata": {},
   "outputs": [],
   "source": [
    "def fillingrate_filter_columns(dataframe, limit_rate):\n",
    "    \"\"\"This function drop the colums where the filling rate is less than a defined limit rate.\"\"\"\n",
    "\n",
    "    # Count of the values on each column\n",
    "    columns_count = dataframe.count()\n",
    "\n",
    "    # Number of rows in the dataframe\n",
    "    nb_rows = dataframe.shape[0]\n",
    "    \n",
    "    # Calculating filling rates\n",
    "    filling_rates = columns_count / nb_rows\n",
    "\n",
    "    # Define a mask of features with a filling_rate bigger than the limit rate\n",
    "    mask = filling_rates > limit_rate\n",
    "    \n",
    "    # Apply the mask to the filling_rates Series\n",
    "    filling_rates_selection = filling_rates[mask]\n",
    "    \n",
    "    # Get the list of the name of the selected columns\n",
    "    features_selection = list(filling_rates_selection.index)\n",
    "    print(\"Number of columns with a filling rate bigger than  {:.2%} : {} columns.\".format(limit_rate, len(features_selection)))\n",
    "\n",
    "    # Return a projection on the selection of features\n",
    "    return dataframe[features_selection]"
   ]
  },
  {
   "cell_type": "code",
   "execution_count": 33,
   "metadata": {},
   "outputs": [
    {
     "name": "stdout",
     "output_type": "stream",
     "text": [
      "Number of columns with a filling rate bigger than  10.00% : 66 columns.\n"
     ]
    }
   ],
   "source": [
    "data_cleaned = fillingrate_filter_columns(data_raw, 0.10)"
   ]
  },
  {
   "cell_type": "markdown",
   "metadata": {},
   "source": [
    "# Étude du remplissage des lignes\n",
    "Nous allons maintenant étudier le remplissage par produit (ligne), en vue d'éliminer les lignes trop peu renseignées."
   ]
  },
  {
   "cell_type": "code",
   "execution_count": 34,
   "metadata": {},
   "outputs": [],
   "source": [
    "def rows_fillingrate_histogram(dataframe):\n",
    "    \"\"\"This function plots an histogram of the distribution of the \n",
    "    filling rate for the rows of a dataframe.\"\"\"\n",
    "\n",
    "    # Import libraries\n",
    "    import matplotlib.ticker as ticker\n",
    "\n",
    "    # Count the non-null values on each row\n",
    "    row_count = dataframe.count(axis=1)\n",
    "\n",
    "    # Calculating filling rates\n",
    "    nb_columns = dataframe.shape[1]\n",
    "    filling_rates_row = row_count / nb_columns\n",
    "\n",
    "    # Plotting histogramm\n",
    "    fig, ax = plt.subplots(figsize=(20, 10))\n",
    "    plt.title(\"Rows' filling rate distribution\", fontsize=25)\n",
    "    plt.xlabel(\"Filling rate\", fontsize=15)\n",
    "    plt.ylabel(\"Frequency\", fontsize=15)\n",
    "    ax.xaxis.set_major_formatter(ticker.PercentFormatter(xmax=1))\n",
    "    bins = np.linspace(0, 1, num=51)\n",
    "    ax.hist(filling_rates_row, bins=bins)\n",
    "    ax.xaxis.set_major_locator(plt.MaxNLocator(11))\n",
    "    plt.show()"
   ]
  },
  {
   "cell_type": "code",
   "execution_count": 35,
   "metadata": {},
   "outputs": [
    {
     "data": {
      "image/png": "[encoded data removed]",
      "text/plain": [
       "<Figure size 1440x720 with 1 Axes>"
      ]
     },
     "metadata": {},
     "output_type": "display_data"
    }
   ],
   "source": [
    "dataframe = data_cleaned\n",
    "rows_fillingrate_histogram(dataframe)"
   ]
  },
  {
   "cell_type": "markdown",
   "metadata": {},
   "source": [
    "Nous constatons que les produits (lignes) restant après les nettoyages préliminaires sont au minimum remplis à 20%, et au maximum à 90%.\n",
    "\n",
    "Nous pouvons néanmoins refaire cette même étude en faisant abstraction des 8 colonnes \"obligatoires\" (avec un taux de 100%) et de la colonne de 'product_name' que nous avons rendus obligatoire."
   ]
  },
  {
   "cell_type": "markdown",
   "metadata": {},
   "source": [
    "## Élimination des lignes remplies à moins de x%"
   ]
  },
  {
   "cell_type": "code",
   "execution_count": 36,
   "metadata": {},
   "outputs": [],
   "source": [
    "def fillingrate_filter_rows(dataframe, limit_rate):\n",
    "    \"\"\"This function drop the colums where the filling rate is less than a defined limit rate.\"\"\"\n",
    "\n",
    "    # Count of the values on each rows (pd.Series)\n",
    "    row_count = dataframe.count(axis=1)\n",
    "\n",
    "    # Number of columns in the dataframe\n",
    "    nb_columns = dataframe.shape[1]\n",
    "    \n",
    "    # Calculating filling rates for each row\n",
    "    filling_rates = row_count / nb_columns\n",
    "\n",
    "    # Define a mask of rows with a filling_rate bigger than the limit rate\n",
    "    mask = filling_rates > limit_rate\n",
    "    \n",
    "    # Displaying result of filtering\n",
    "    print(\"Number of rows with a filling rate bigger than  {:.2%}: {} rows.\".format(limit_rate, len(dataframe[mask])))\n",
    "\n",
    "    # Return a projection on the selection of rows\n",
    "    return dataframe[mask]"
   ]
  },
  {
   "cell_type": "code",
   "execution_count": 37,
   "metadata": {},
   "outputs": [
    {
     "name": "stdout",
     "output_type": "stream",
     "text": [
      "Number of rows with a filling rate bigger than  40.00%: 698546 rows.\n"
     ]
    }
   ],
   "source": [
    "data_cleaned = fillingrate_filter_rows(data_cleaned, 0.40)"
   ]
  },
  {
   "cell_type": "code",
   "execution_count": 38,
   "metadata": {},
   "outputs": [
    {
     "name": "stdout",
     "output_type": "stream",
     "text": [
      "DataFrame has 698546 rows and 66 columns.\n",
      "The global filling rate of the DataFrame is : 60.05%\n"
     ]
    },
    {
     "data": {
      "image/png": "[encoded data removed]",
      "text/plain": [
       "<Figure size 360x360 with 1 Axes>"
      ]
     },
     "metadata": {},
     "output_type": "display_data"
    }
   ],
   "source": [
    "filling_rate(data_cleaned)"
   ]
  },
  {
   "cell_type": "markdown",
   "metadata": {},
   "source": [
    "# Sauvegarde du pd.DataFrame (méthode *feather*)"
   ]
  },
  {
   "cell_type": "code",
   "execution_count": 39,
   "metadata": {},
   "outputs": [],
   "source": [
    "# feather does not support serializing a non-default index\n",
    "data_cleaned = data_cleaned.reset_index()\n",
    "\n",
    "# Drop the column with original index\n",
    "data_cleaned = data_cleaned.drop(columns=[\"index\"])\n",
    "\n",
    "# Save binary file\n",
    "data_cleaned.to_feather(\"p3_data.ft\")"
   ]
  },
  {
   "cell_type": "code",
   "execution_count": null,
   "metadata": {},
   "outputs": [],
   "source": []
  },
  {
   "cell_type": "code",
   "execution_count": null,
   "metadata": {},
   "outputs": [],
   "source": []
  }
 ],
 "metadata": {
  "kernelspec": {
   "display_name": "Python 3",
   "language": "python",
   "name": "python3"
  },
  "language_info": {
   "codemirror_mode": {
    "name": "ipython",
    "version": 3
   },
   "file_extension": ".py",
   "mimetype": "text/x-python",
   "name": "python",
   "nbconvert_exporter": "python",
   "pygments_lexer": "ipython3",
   "version": "3.7.3"
  }
 },
 "nbformat": 4,
 "nbformat_minor": 4
}
